{
  "cells": [
    {
      "cell_type": "markdown",
      "metadata": {},
      "source": [
        "# Part C > Algorithm Comparison"
      ]
    },
    {
      "cell_type": "markdown",
      "metadata": {},
      "source": [
        "## Import Dependencies"
      ]
    },
    {
      "cell_type": "code",
      "execution_count": 1,
      "metadata": {
        "id": "o1PfgRqJ19Yc"
      },
      "outputs": [],
      "source": [
        "# !apt-get install x11-utils > /dev/null 2>&1 \n",
        "# !pip install pyglet > /dev/null 2>&1 \n",
        "# !apt-get install -y xvfb python-opengl > /dev/null 2>&1\n",
        "# !pip install pyvirtualdisplay > /dev/null 2>&1\n",
        "# !pip install gym==0.17.1 > /dev/null 2>&1\n",
        "# !pip install wandb > /dev/null 2>&1"
      ]
    },
    {
      "cell_type": "code",
      "execution_count": 2,
      "metadata": {
        "id": "XS931HWlGtEv"
      },
      "outputs": [],
      "source": [
        "# from google.colab import drive\n",
        "# drive.mount('/content/drive')"
      ]
    },
    {
      "cell_type": "code",
      "execution_count": 3,
      "metadata": {
        "id": "_8wFYqDL6TV9"
      },
      "outputs": [],
      "source": [
        "import gym\n",
        "import shutil\n",
        "from gym.wrappers import Monitor\n",
        "from skimage.transform import resize\n",
        "import glob\n",
        "import io\n",
        "import base64\n",
        "from IPython import display as ipython_display\n",
        "from IPython.display import HTML\n",
        "import matplotlib.pyplot as plt\n",
        "import numpy as np\n",
        "import tensorflow as tf\n",
        "from tensorflow.keras.models import Sequential, load_model\n",
        "from tensorflow.keras.layers import *\n",
        "from tensorflow.keras.optimizers import *\n",
        "from tensorflow.keras.regularizers import *\n",
        "from tensorflow.keras.losses import *\n",
        "from collections import deque\n",
        "# from pyvirtualdisplay import Display\n",
        "import wandb\n",
        "from gym.wrappers.monitoring.video_recorder import VideoRecorder\n",
        "import os\n",
        "from IPython.display import Video\n",
        "import pandas as pd\n",
        "from warnings import filterwarnings"
      ]
    },
    {
      "cell_type": "code",
      "execution_count": 4,
      "metadata": {},
      "outputs": [],
      "source": [
        "filterwarnings(action='ignore')"
      ]
    },
    {
      "cell_type": "code",
      "execution_count": 5,
      "metadata": {
        "colab": {
          "base_uri": "https://localhost:8080/"
        },
        "id": "W6OBfrfm2-QV",
        "outputId": "fad49ce7-99ff-4aa2-d4b7-93d02c5a045e"
      },
      "outputs": [],
      "source": [
        "# display = Display(visible=0, size=(400, 300))\n",
        "# display.start()"
      ]
    },
    {
      "cell_type": "markdown",
      "metadata": {},
      "source": [
        "## Global Config"
      ]
    },
    {
      "cell_type": "code",
      "execution_count": 6,
      "metadata": {},
      "outputs": [],
      "source": [
        "ARTIFACT_STORE = '../artifacts/'\n",
        "EPISODES = 1000\n",
        "MAX_TIMESTEPS = 200"
      ]
    },
    {
      "cell_type": "markdown",
      "metadata": {},
      "source": [
        "## General Utilities"
      ]
    },
    {
      "cell_type": "code",
      "execution_count": 7,
      "metadata": {},
      "outputs": [],
      "source": [
        "from abc import ABC, abstractmethod\n",
        "\n",
        "class Agent(ABC):\n",
        "    def __init__(self, **kwargs):\n",
        "        for k, v in kwargs.items():\n",
        "            self.__setattr__(k, v)\n",
        "    \n",
        "    @abstractmethod\n",
        "    def act(self, state):\n",
        "        pass"
      ]
    },
    {
      "cell_type": "code",
      "execution_count": 8,
      "metadata": {
        "id": "e5oxmGOLEHGx"
      },
      "outputs": [],
      "source": [
        "class ReplayBuffer:\n",
        "    def __init__(self, max_length: int):\n",
        "        self.max_length = max_length\n",
        "        self.buffer = [None] * self.max_length\n",
        "        self.pointer = 0\n",
        "        self.size = 0\n",
        "\n",
        "    def append(self, memory):\n",
        "        if self.pointer >= self.max_length:\n",
        "            self.pointer = 0\n",
        "        elif self.size < self.max_length:\n",
        "            self.size += 1\n",
        "        self.buffer[self.pointer] = memory\n",
        "        self.pointer += 1\n",
        "\n",
        "    def sample(self, batch_size: int):\n",
        "        return [self.buffer[i] for i in  np.random.randint(0, self.size, batch_size)]\n",
        "    \n",
        "    def __getitem__(self, index):\n",
        "        return self.buffer[index]\n",
        "    \n",
        "    def __len__(self):\n",
        "        return self.size"
      ]
    },
    {
      "cell_type": "code",
      "execution_count": 9,
      "metadata": {
        "id": "FB8eq344EEBc"
      },
      "outputs": [],
      "source": [
        "class RewardTracker(deque):\n",
        "    def __init__(self, max_length: int):\n",
        "        super().__init__(maxlen=max_length)\n",
        "        self.max_length = max_length\n",
        "\n",
        "    def log(self, total_episodic_rewards):\n",
        "        self.append(total_episodic_rewards)\n",
        "    \n",
        "    def get_rolling_mean(self):\n",
        "        base = min(self.__len__(), self.max_length)\n",
        "        return sum((r for r in self)) / float(base)"
      ]
    },
    {
      "cell_type": "code",
      "execution_count": 10,
      "metadata": {
        "id": "HcsLrhYkD_sj"
      },
      "outputs": [],
      "source": [
        "class FileLogger:\n",
        "    def __init__(self, log_file: str, *args, sep: str=';'):\n",
        "        self.log_file = log_file\n",
        "        self.sep = sep\n",
        "        self.n_args = len(args)\n",
        "        if not os.path.exists(log_file):\n",
        "            self.setup(args)\n",
        "    \n",
        "    def setup(self, args):\n",
        "        header = self.sep.join(args)\n",
        "        with open(self.log_file, mode='w') as f:\n",
        "            f.write(header)\n",
        "            f.write('\\n')\n",
        "\n",
        "    def log(self, **kwargs):\n",
        "        assert len(kwargs) == self.n_args\n",
        "        header = ''\n",
        "        with open(self.log_file, mode='r') as f:\n",
        "            header = f.readlines()[0].replace('\\n', '')\n",
        "        params = header.split(self.sep)\n",
        "        values = (str(kwargs[p.lower()]) for p in params)\n",
        "        entry = self.sep.join(values)\n",
        "        with open(self.log_file, mode='a+') as f:\n",
        "            f.write(entry)\n",
        "            f.write('\\n')\n",
        "        return self"
      ]
    },
    {
      "cell_type": "code",
      "execution_count": 11,
      "metadata": {},
      "outputs": [],
      "source": [
        "# def running_mean(x, N):\n",
        "#     cumsum = np.cumsum(np.insert(x, 0, 0))\n",
        "#     print(len(cumsum))\n",
        "#     return (cumsum[N:] - cumsum[:-N]) / float(N)"
      ]
    },
    {
      "cell_type": "code",
      "execution_count": 12,
      "metadata": {},
      "outputs": [],
      "source": [
        "def train_agent(agent, artifact_store, episodes=100):\n",
        "    shutil.rmtree(artifact_store + 'video', ignore_errors=True)\n",
        "    os.mkdir(artifact_store + 'video')\n",
        "    label = artifact_store.split('/')[2].capitalize()\n",
        "    vid = VideoRecorder(env=env, path=artifact_store + f'video/CartPole-{label}.mp4')\n",
        "    file_logger = FileLogger(artifact_store + 'progress.log', 'Episode', 'Total_Rewards')\n",
        "    for episode in range(episodes):\n",
        "        state = env.reset()\n",
        "        total_rewards = 0\n",
        "        for step in range(MAX_TIMESTEPS):\n",
        "            print(f'\\repisode {episode}; step {step}', end='')\n",
        "            frame = env.render(mode='rgb_array')\n",
        "            vid.capture_frame()\n",
        "\n",
        "            action = agent.act(state)\n",
        "            new_state, reward, done, _ = env.step(action=action)\n",
        "\n",
        "            if done and step < MAX_TIMESTEPS - 1:\n",
        "                reward = -10\n",
        "\n",
        "            total_rewards += reward\n",
        "            state = new_state\n",
        "\n",
        "            if done:\n",
        "                break\n",
        "        file_logger.log(episode=episode, total_rewards=total_rewards)\n",
        "    env.close()"
      ]
    },
    {
      "cell_type": "code",
      "execution_count": 13,
      "metadata": {},
      "outputs": [],
      "source": [
        "def plot_learning_curve(log_file, sep, running_intervals=[]):\n",
        "    df = pd.read_csv(log_file, sep=sep)\n",
        "    episodes = df['Episode']\n",
        "    scores = df['Total_Rewards']\n",
        "    plt.plot(episodes, scores, label='Actual')\n",
        "    for i in running_intervals:\n",
        "        plt.plot(episodes, scores.rolling(window=i).mean(), label=f'{i}-Episode Running Mean')\n",
        "    plt.legend()\n",
        "    plt.show()"
      ]
    },
    {
      "cell_type": "code",
      "execution_count": 14,
      "metadata": {},
      "outputs": [],
      "source": [
        "env = gym.make('CartPole-v0')"
      ]
    },
    {
      "cell_type": "code",
      "execution_count": 15,
      "metadata": {},
      "outputs": [
        {
          "data": {
            "text/plain": [
              "Discrete(2)"
            ]
          },
          "execution_count": 15,
          "metadata": {},
          "output_type": "execute_result"
        }
      ],
      "source": [
        "env.action_space"
      ]
    },
    {
      "cell_type": "markdown",
      "metadata": {},
      "source": [
        "## Random Agent"
      ]
    },
    {
      "cell_type": "markdown",
      "metadata": {},
      "source": [
        "### Agent Config"
      ]
    },
    {
      "cell_type": "code",
      "execution_count": 16,
      "metadata": {},
      "outputs": [],
      "source": [
        "RANDOM_ARTIFACT_STORE = ARTIFACT_STORE + 'random/'"
      ]
    },
    {
      "cell_type": "markdown",
      "metadata": {},
      "source": [
        "### Declare Agent"
      ]
    },
    {
      "cell_type": "code",
      "execution_count": 17,
      "metadata": {},
      "outputs": [],
      "source": [
        "class RandomAgent(Agent):\n",
        "    def __init__(self):\n",
        "        super().__init__()\n",
        "    \n",
        "    def act(self, _):\n",
        "        return np.random.randint(0, 2)"
      ]
    },
    {
      "cell_type": "markdown",
      "metadata": {},
      "source": [
        "### Training"
      ]
    },
    {
      "cell_type": "code",
      "execution_count": 18,
      "metadata": {},
      "outputs": [],
      "source": [
        "# train_agent(agent=RandomAgent(), artifact_store=RANDOM_ARTIFACT_STORE)"
      ]
    },
    {
      "cell_type": "markdown",
      "metadata": {},
      "source": [
        "### Plot Learning Curve"
      ]
    },
    {
      "cell_type": "code",
      "execution_count": 19,
      "metadata": {},
      "outputs": [
        {
          "data": {
            "image/png": "[encoded data removed]",
            "text/plain": [
              "<Figure size 432x288 with 1 Axes>"
            ]
          },
          "metadata": {
            "needs_background": "light"
          },
          "output_type": "display_data"
        }
      ],
      "source": [
        "plot_learning_curve(log_file=RANDOM_ARTIFACT_STORE + 'progress.log', sep=';', running_intervals=[10, 20, 100])"
      ]
    },
    {
      "cell_type": "markdown",
      "metadata": {},
      "source": [
        "### Preview Performance"
      ]
    },
    {
      "cell_type": "code",
      "execution_count": 20,
      "metadata": {},
      "outputs": [
        {
          "data": {
            "text/html": [
              "<video src=\"../artifacts/random/video/CartPole-Random.mp4\" controls  >\n",
              "      Your browser does not support the <code>video</code> element.\n",
              "    </video>"
            ],
            "text/plain": [
              "<IPython.core.display.Video object>"
            ]
          },
          "execution_count": 20,
          "metadata": {},
          "output_type": "execute_result"
        }
      ],
      "source": [
        "Video('../artifacts/random/video/CartPole-Random.mp4')"
      ]
    },
    {
      "cell_type": "markdown",
      "metadata": {},
      "source": [
        "## Angular Agent"
      ]
    },
    {
      "cell_type": "code",
      "execution_count": 21,
      "metadata": {},
      "outputs": [],
      "source": [
        "ANGULAR_ARTIFACT_STORE = ARTIFACT_STORE + 'angular/'"
      ]
    },
    {
      "cell_type": "markdown",
      "metadata": {},
      "source": [
        "### Declare Agent"
      ]
    },
    {
      "cell_type": "code",
      "execution_count": 22,
      "metadata": {},
      "outputs": [],
      "source": [
        "class AngularAgent(Agent):\n",
        "    def __init__(self):\n",
        "        super().__init__()\n",
        "    \n",
        "    def act(self, state):\n",
        "        return 1 if state.flatten()[2] > 0 else 0"
      ]
    },
    {
      "cell_type": "markdown",
      "metadata": {},
      "source": [
        "### Train Agent"
      ]
    },
    {
      "cell_type": "code",
      "execution_count": 23,
      "metadata": {},
      "outputs": [],
      "source": [
        "# train_agent(agent=AngularAgent(), artifact_store=ANGULAR_ARTIFACT_STORE)"
      ]
    },
    {
      "cell_type": "markdown",
      "metadata": {},
      "source": [
        "### Plot Learning Curve"
      ]
    },
    {
      "cell_type": "code",
      "execution_count": 24,
      "metadata": {},
      "outputs": [
        {
          "data": {
            "image/png": "[encoded data removed]",
            "text/plain": [
              "<Figure size 432x288 with 1 Axes>"
            ]
          },
          "metadata": {
            "needs_background": "light"
          },
          "output_type": "display_data"
        }
      ],
      "source": [
        "plot_learning_curve(ANGULAR_ARTIFACT_STORE + 'progress.log', sep=';', running_intervals=[5, 10, 20])"
      ]
    },
    {
      "cell_type": "markdown",
      "metadata": {},
      "source": [
        "### Preview Performance"
      ]
    },
    {
      "cell_type": "code",
      "execution_count": 25,
      "metadata": {},
      "outputs": [
        {
          "data": {
            "text/html": [
              "<video src=\"../artifacts/angular/video/CartPole-Angular.mp4\" controls  >\n",
              "      Your browser does not support the <code>video</code> element.\n",
              "    </video>"
            ],
            "text/plain": [
              "<IPython.core.display.Video object>"
            ]
          },
          "execution_count": 25,
          "metadata": {},
          "output_type": "execute_result"
        }
      ],
      "source": [
        "Video(ANGULAR_ARTIFACT_STORE + 'video/CartPole-Angular.mp4')"
      ]
    },
    {
      "cell_type": "markdown",
      "metadata": {},
      "source": [
        "## Velocity Agent"
      ]
    },
    {
      "cell_type": "code",
      "execution_count": 26,
      "metadata": {},
      "outputs": [],
      "source": [
        "VELOCITY_ARTIFACT_STORE = ARTIFACT_STORE + 'velocity/'"
      ]
    },
    {
      "cell_type": "markdown",
      "metadata": {},
      "source": [
        "### Declare Agent"
      ]
    },
    {
      "cell_type": "code",
      "execution_count": 27,
      "metadata": {},
      "outputs": [],
      "source": [
        "class VelocityAgent(Agent):\n",
        "    def __init__(self):\n",
        "        super().__init__()\n",
        "    \n",
        "    def act(self, state):\n",
        "        return 1 if state.flatten()[3] > 0 else 0"
      ]
    },
    {
      "cell_type": "markdown",
      "metadata": {},
      "source": [
        "### Train Agent"
      ]
    },
    {
      "cell_type": "code",
      "execution_count": 28,
      "metadata": {},
      "outputs": [],
      "source": [
        "# train_agent(agent=VelocityAgent(), artifact_store=VELOCITY_ARTIFACT_STORE, episodes=50)"
      ]
    },
    {
      "cell_type": "markdown",
      "metadata": {},
      "source": [
        "### Plot Learning Curve"
      ]
    },
    {
      "cell_type": "code",
      "execution_count": 29,
      "metadata": {},
      "outputs": [
        {
          "data": {
            "image/png": "[encoded data removed]",
            "text/plain": [
              "<Figure size 432x288 with 1 Axes>"
            ]
          },
          "metadata": {
            "needs_background": "light"
          },
          "output_type": "display_data"
        }
      ],
      "source": [
        "plot_learning_curve(log_file=VELOCITY_ARTIFACT_STORE + 'progress.log', sep=';', running_intervals=[5, 10, 20])"
      ]
    },
    {
      "cell_type": "markdown",
      "metadata": {},
      "source": [
        "### Preview Performance"
      ]
    },
    {
      "cell_type": "code",
      "execution_count": 30,
      "metadata": {},
      "outputs": [
        {
          "data": {
            "text/html": [
              "<video src=\"../artifacts/velocity/video/CartPole-Velocity.mp4\" controls  >\n",
              "      Your browser does not support the <code>video</code> element.\n",
              "    </video>"
            ],
            "text/plain": [
              "<IPython.core.display.Video object>"
            ]
          },
          "execution_count": 30,
          "metadata": {},
          "output_type": "execute_result"
        }
      ],
      "source": [
        "Video(VELOCITY_ARTIFACT_STORE + 'video/CartPole-Velocity.mp4')"
      ]
    },
    {
      "cell_type": "markdown",
      "metadata": {},
      "source": [
        "## Angular + Velocity Agent"
      ]
    },
    {
      "cell_type": "code",
      "execution_count": 31,
      "metadata": {},
      "outputs": [],
      "source": [
        "AV_ARTIFACT_STORE = ARTIFACT_STORE + 'av/'"
      ]
    },
    {
      "cell_type": "markdown",
      "metadata": {},
      "source": [
        "### Declare Agent"
      ]
    },
    {
      "cell_type": "code",
      "execution_count": 32,
      "metadata": {},
      "outputs": [],
      "source": [
        "class AVAgent(Agent):\n",
        "    def __init__(self, threshold=0.03):\n",
        "        super().__init__(threshold=threshold)\n",
        "    \n",
        "    def act(self, state):\n",
        "        _, _, angle, velocity = state.flatten()\n",
        "        if abs(angle) < self.threshold:\n",
        "            return 1 if velocity > 0 else 0\n",
        "        return 1 if angle > 0 else 0"
      ]
    },
    {
      "cell_type": "markdown",
      "metadata": {},
      "source": [
        "### Train Agent"
      ]
    },
    {
      "cell_type": "code",
      "execution_count": 33,
      "metadata": {},
      "outputs": [],
      "source": [
        "# train_agent(agent=AVAgent(), artifact_store=AV_ARTIFACT_STORE, episodes=10)"
      ]
    },
    {
      "cell_type": "markdown",
      "metadata": {},
      "source": [
        "### Plot Learning Curve"
      ]
    },
    {
      "cell_type": "code",
      "execution_count": 34,
      "metadata": {},
      "outputs": [
        {
          "data": {
            "image/png": "[encoded data removed]",
            "text/plain": [
              "<Figure size 432x288 with 1 Axes>"
            ]
          },
          "metadata": {
            "needs_background": "light"
          },
          "output_type": "display_data"
        }
      ],
      "source": [
        "plot_learning_curve(AV_ARTIFACT_STORE + 'progress.log', sep=';', running_intervals=[5, 10, 20])"
      ]
    },
    {
      "cell_type": "markdown",
      "metadata": {},
      "source": [
        "### Preview Performance"
      ]
    },
    {
      "cell_type": "code",
      "execution_count": 35,
      "metadata": {},
      "outputs": [
        {
          "data": {
            "text/html": [
              "<video src=\"../artifacts/av/video/CartPole-Av.mp4\" controls  >\n",
              "      Your browser does not support the <code>video</code> element.\n",
              "    </video>"
            ],
            "text/plain": [
              "<IPython.core.display.Video object>"
            ]
          },
          "execution_count": 35,
          "metadata": {},
          "output_type": "execute_result"
        }
      ],
      "source": [
        "Video(AV_ARTIFACT_STORE + 'video/CartPole-Av.mp4')"
      ]
    },
    {
      "cell_type": "markdown",
      "metadata": {},
      "source": [
        "## Deep Q-Learning"
      ]
    },
    {
      "cell_type": "code",
      "execution_count": 36,
      "metadata": {},
      "outputs": [],
      "source": [
        "class VelocityAgent(Agent):\n",
        "    def __init__(self):\n",
        "        super().__init__()\n",
        "    \n",
        "    def act(self, state):\n",
        "        return 1 if state.flatten()[3] > 0 else 0"
      ]
    },
    {
      "cell_type": "code",
      "execution_count": 37,
      "metadata": {},
      "outputs": [],
      "source": [
        "class DQN_Agent(Agent):\n",
        "    def __init__(self, **kwargs):\n",
        "        super().__init__(**kwargs)\n",
        "    \n",
        "    def calculate_target_values(self, memory_batch):\n",
        "        states = []\n",
        "        next_states = []\n",
        "        for sample in memory_batch:\n",
        "            states.append(sample[0])\n",
        "            next_states.append(sample[3])\n",
        "        states = np.array(states)\n",
        "        next_states = np.array(next_states)\n",
        "\n",
        "        q_values = self.model.predict(states)\n",
        "        target_q_values = self.target_model.predict(states)\n",
        "\n",
        "        q_values_next_state = self.model.predict(next_states)\n",
        "        target_q_values_next_state = self.target_model.predict(next_states)\n",
        "\n",
        "        targets = []\n",
        "        for index, (s, a, r, s_, d) in enumerate(memory_batch):\n",
        "            best_action = np.argmax(q_values_next_state[index])\n",
        "            best_action_next_state_q_value = target_q_values_next_state[index][best_action]\n",
        "            \n",
        "            target_vector = [0, 0]\n",
        "            target_vector[a] = r if d else r + self.gamma * best_action_next_state_q_value\n",
        "            targets.append(target_vector)\n",
        "\n",
        "        return states, np.array(targets)\n",
        "\n",
        "    def act(self, state):\n",
        "        if np.random.uniform(0, 1) < self.epsilon:\n",
        "            return self.env.action_space.sample()\n",
        "        return np.argmax(self.model.predict(state.reshape(1, -1))[0])\n",
        "\n",
        "    def learn(self):\n",
        "        if len(self.replay_buffer) >= self.batch_size:\n",
        "            samples = self.replay_buffer.sample(batch_size=self.batch_size)\n",
        "            states, targets = self.calculate_target_values(samples)\n",
        "            self.model.fit(states, targets, epochs=1, batch_size=targets.shape[0], verbose=0)\n",
        "    \n",
        "    def transfer_weights(self):\n",
        "        policy_weights = self.model.get_weights()\n",
        "        self.target_model.set_weights(policy_weights)\n",
        "    \n",
        "    def remember(self, state, action, reward, next_state, done):\n",
        "        self.replay_buffer.append((state, action, reward, next_state, done))\n",
        "    \n",
        "    def decay_epsilon(self):\n",
        "        self.epsilon = max(self.min_epsilon, self.epsilon * self.epsilon_decay)"
      ]
    },
    {
      "cell_type": "code",
      "execution_count": 38,
      "metadata": {},
      "outputs": [],
      "source": [
        "# def train_on_stats(env):\n",
        "#     episodes = 1000\n",
        "#     max_steps_per_episode = 200\n",
        "#     target_model_train_interval = 5\n",
        "#     reward_progress = RewardTracker(max_length=20)\n",
        "#     dqn_agent = Agent(env=env, **AGENT_CONFIG, log_file=LOG_FILE)\n",
        "#     for episode in range(1, episodes + 1):\n",
        "#         state = env.reset()\n",
        "#         # prev_screen = get_state(env)\n",
        "#         # current_screen = get_state(env)\n",
        "#         # state = current_screen - prev_screen\n",
        "#         total_episode_rewards = 0\n",
        "#         for step in range(max_steps_per_episode):\n",
        "#             # prev_screen = current_screen\n",
        "\n",
        "#             action = dqn_agent.act(state)\n",
        "#             new_state, reward, done, _ = env.step(action)\n",
        "\n",
        "#             # current_screen = get_state(env)\n",
        "\n",
        "#             # new_state = current_screen - prev_screen\n",
        "            \n",
        "#             if done:\n",
        "#                 reward = -10\n",
        "\n",
        "#             total_episode_rewards += reward\n",
        "#             print(f'\\rEpisode: {episode}; Step: {step}; Reward: {reward}; Total Episode Rewards (thus far): {total_episode_rewards}', end='')\n",
        "\n",
        "#             dqn_agent.remember(state, action, reward, new_state, done)\n",
        "#             dqn_agent.learn()\n",
        "    \n",
        "#             state = new_state\n",
        "\n",
        "#             if done:\n",
        "#                 break\n",
        "#         else:\n",
        "#             print(f'Success')\n",
        "\n",
        "#         if episode % target_model_train_interval == 0:\n",
        "#             dqn_agent.transfer_weights()\n",
        "#         reward_progress.append(total_episode_rewards)\n",
        "#         print(f'\\nRolling Mean: {reward_progress.get_rolling_mean()}')\n",
        "#         dqn_agent.checkpoint(episode=episode, steps=step, total_rewards=total_episode_rewards)\n",
        "#         wandb.log({\n",
        "#             'episode': episode,\n",
        "#             'epsilon': dqn_agent.epsilon,\n",
        "#             'steps': step,\n",
        "#             'total rewards': total_episode_rewards\n",
        "#         })\n",
        "\n",
        "#         dqn_agent.decay_epsilon()\n",
        "#         print(f'\\nNew Epsilon: {dqn_agent.epsilon}')"
      ]
    },
    {
      "cell_type": "markdown",
      "metadata": {},
      "source": [
        "## Deep Q-Learning (statistics)"
      ]
    },
    {
      "cell_type": "code",
      "execution_count": 39,
      "metadata": {},
      "outputs": [],
      "source": [
        "STATS_ARTIFACT_STORE = ARTIFACT_STORE + 'stats/'"
      ]
    },
    {
      "cell_type": "markdown",
      "metadata": {},
      "source": [
        "### Declare Agent"
      ]
    },
    {
      "cell_type": "code",
      "execution_count": 40,
      "metadata": {},
      "outputs": [],
      "source": [
        "STATS_AGENT_CONFIG = {\n",
        "    'batch_size': 64,\n",
        "    'alpha': 0.01,\n",
        "    'epsilon': 1.0,\n",
        "    'min_epsilon': 0.01,\n",
        "    'epsilon_decay': 0.99,\n",
        "    'gamma': 0.995,\n",
        "}"
      ]
    },
    {
      "cell_type": "code",
      "execution_count": 41,
      "metadata": {},
      "outputs": [],
      "source": [
        "def DQN_Stats(input_shape, output_shape, alpha: float):\n",
        "    model = Sequential(layers=[\n",
        "        Input(shape=input_shape),\n",
        "        Dense(64, activation='relu'),\n",
        "        Dense(64, activation='relu'),\n",
        "        Dense(output_shape)\n",
        "    ])\n",
        "    model.compile(loss='mean_squared_error', optimizer=Adam(learning_rate=alpha))\n",
        "    return model"
      ]
    },
    {
      "cell_type": "code",
      "execution_count": 42,
      "metadata": {},
      "outputs": [],
      "source": [
        "class DQN_Stats_Agent(DQN_Agent):\n",
        "    def __init__(self,\n",
        "                 env,\n",
        "                 batch_size: int,\n",
        "                 alpha: float,\n",
        "                 epsilon: float,\n",
        "                 min_epsilon: float,\n",
        "                 epsilon_decay: float,\n",
        "                 gamma: float,\n",
        "                 max_memory_length: int = 2000):\n",
        "        super().__init__(\n",
        "            env=env,\n",
        "            batch_size=batch_size,\n",
        "            alpha=alpha,\n",
        "            epsilon=epsilon,\n",
        "            min_epsilon=min_epsilon,\n",
        "            epsilon_decay=epsilon_decay,\n",
        "            gamma=gamma\n",
        "        )\n",
        "        self.replay_buffer = ReplayBuffer(max_length=max_memory_length)\n",
        "        self.model = DQN_Stats(\n",
        "            input_shape=env.observation_space.shape,\n",
        "            output_shape=env.action_space.n,\n",
        "            alpha=alpha)\n",
        "        self.target_model = DQN_Stats(\n",
        "            input_shape=env.observation_space.shape,\n",
        "            output_shape=env.action_space.n,\n",
        "            alpha=alpha)"
      ]
    },
    {
      "cell_type": "code",
      "execution_count": 43,
      "metadata": {},
      "outputs": [],
      "source": [
        "def train_dqn_agent_stats(episodes=100):\n",
        "    target_model_train_interval = 10\n",
        "    agent = DQN_Stats_Agent(env=env, **STATS_AGENT_CONFIG)\n",
        "\n",
        "    os.mkdir(STATS_ARTIFACT_STORE + 'video')\n",
        "    label = STATS_ARTIFACT_STORE.split('/')[2].capitalize()\n",
        "    vid = VideoRecorder(env=env, path=STATS_ARTIFACT_STORE + f'video/CartPole-{label}.mp4')\n",
        "    file_logger = FileLogger(STATS_ARTIFACT_STORE + 'progress.log', 'Episode', 'Total_Rewards')\n",
        "    for episode in range(episodes):\n",
        "        state = env.reset()\n",
        "        total_rewards = 0\n",
        "        for step in range(MAX_TIMESTEPS):\n",
        "            print(f'\\repisode {episode}; step {step}', end='')\n",
        "            frame = env.render(mode='rgb_array')\n",
        "            vid.capture_frame()\n",
        "\n",
        "            action = agent.act(state)\n",
        "            new_state, reward, done, _ = env.step(action=action)\n",
        "\n",
        "            if done and step < MAX_TIMESTEPS - 1:\n",
        "                reward = -10\n",
        "            \n",
        "            agent.remember(state, action, reward, new_state, done)\n",
        "            agent.learn()\n",
        "            \n",
        "            if episode % target_model_train_interval == 0:\n",
        "                agent.transfer_weights()\n",
        "\n",
        "            total_rewards += reward\n",
        "            state = new_state\n",
        "\n",
        "            if done:\n",
        "                break\n",
        "\n",
        "        file_logger.log(episode=episode, total_rewards=total_rewards)\n",
        "        agent.decay_epsilon()\n",
        "    env.close()"
      ]
    },
    {
      "cell_type": "code",
      "execution_count": 45,
      "metadata": {},
      "outputs": [
        {
          "name": "stdout",
          "output_type": "stream",
          "text": [
            "episode 99; step 117"
          ]
        }
      ],
      "source": [
        "train_dqn_agent_stats()"
      ]
    },
    {
      "cell_type": "markdown",
      "metadata": {},
      "source": [
        "### Plot Learning Curve"
      ]
    },
    {
      "cell_type": "code",
      "execution_count": 46,
      "metadata": {},
      "outputs": [
        {
          "data": {
            "image/png": "[encoded data removed]",
            "text/plain": [
              "<Figure size 432x288 with 1 Axes>"
            ]
          },
          "metadata": {
            "needs_background": "light"
          },
          "output_type": "display_data"
        }
      ],
      "source": [
        "plot_learning_curve(log_file=STATS_ARTIFACT_STORE + 'progress.log', sep=';', running_intervals=[10, 20])"
      ]
    },
    {
      "cell_type": "markdown",
      "metadata": {},
      "source": [
        "### Preview Performance"
      ]
    },
    {
      "cell_type": "code",
      "execution_count": 47,
      "metadata": {},
      "outputs": [
        {
          "data": {
            "text/html": [
              "<video src=\"../artifacts/stats/video/CartPole-Stats.mp4\" controls  >\n",
              "      Your browser does not support the <code>video</code> element.\n",
              "    </video>"
            ],
            "text/plain": [
              "<IPython.core.display.Video object>"
            ]
          },
          "execution_count": 47,
          "metadata": {},
          "output_type": "execute_result"
        }
      ],
      "source": [
        "Video(STATS_ARTIFACT_STORE + 'video/CartPole-Stats.mp4')"
      ]
    },
    {
      "cell_type": "markdown",
      "metadata": {},
      "source": [
        "## Deep Q-Learning (raw pixels)"
      ]
    },
    {
      "cell_type": "markdown",
      "metadata": {},
      "source": [
        "### Pre-Processing"
      ]
    },
    {
      "cell_type": "code",
      "execution_count": null,
      "metadata": {
        "colab": {
          "base_uri": "https://localhost:8080/",
          "height": 265
        },
        "id": "ijHqkdeo1svc",
        "outputId": "41d58437-a0c8-4c6a-983a-221a766568e1"
      },
      "outputs": [
        {
          "data": {
            "text/plain": [
              "<matplotlib.image.AxesImage at 0x7f9eeec71e10>"
            ]
          },
          "execution_count": 7,
          "metadata": {},
          "output_type": "execute_result"
        },
        {
          "data": {
            "image/png": "[encoded data removed]",
            "text/plain": [
              "<Figure size 432x288 with 1 Axes>"
            ]
          },
          "metadata": {
            "needs_background": "light"
          },
          "output_type": "display_data"
        }
      ],
      "source": [
        "env.reset()\n",
        "prev_screen = env.render(mode='rgb_array')\n",
        "plt.axis('off')\n",
        "plt.imshow(prev_screen)"
      ]
    },
    {
      "cell_type": "code",
      "execution_count": null,
      "metadata": {
        "colab": {
          "base_uri": "https://localhost:8080/"
        },
        "id": "GVFoUIhDDuGm",
        "outputId": "0c49de73-35bc-41da-ce1f-fb71d18da6c7"
      },
      "outputs": [
        {
          "data": {
            "text/plain": [
              "Discrete(2)"
            ]
          },
          "execution_count": 8,
          "metadata": {},
          "output_type": "execute_result"
        }
      ],
      "source": [
        "env.action_space"
      ]
    },
    {
      "cell_type": "code",
      "execution_count": null,
      "metadata": {
        "colab": {
          "base_uri": "https://localhost:8080/",
          "height": 511
        },
        "id": "bKRT0Ati6l2-",
        "outputId": "ee48cfe6-5658-4cd3-a62e-d1eadde19cff"
      },
      "outputs": [
        {
          "data": {
            "image/png": "[encoded data removed]",
            "text/plain": [
              "<Figure size 432x288 with 1 Axes>"
            ]
          },
          "metadata": {
            "needs_background": "light"
          },
          "output_type": "display_data"
        },
        {
          "data": {
            "image/png": "[encoded data removed]",
            "text/plain": [
              "<Figure size 432x288 with 1 Axes>"
            ]
          },
          "metadata": {
            "needs_background": "light"
          },
          "output_type": "display_data"
        }
      ],
      "source": [
        "env.reset()\n",
        "\n",
        "for step in range(100):\n",
        "    screen = env.render(mode='rgb_array')\n",
        "    plt.title(str(step))\n",
        "    plt.imshow(screen)\n",
        "    plt.axis('off')\n",
        "    ipython_display.clear_output(wait=True)\n",
        "    plt.show()\n",
        "    \n",
        "    action = env.action_space.sample() \n",
        "    state, reward, done, info = env.step(action)\n",
        "\n",
        "    if done:\n",
        "        np.argwhere(screen == 0)\n",
        "        break\n",
        "\n",
        "env.reset()\n",
        "plt.title('Initial')\n",
        "plt.imshow(env.render(mode='rgb_array'))\n",
        "plt.axis('off')\n",
        "env.close()"
      ]
    },
    {
      "cell_type": "code",
      "execution_count": null,
      "metadata": {
        "colab": {
          "base_uri": "https://localhost:8080/",
          "height": 304
        },
        "id": "AlPlDIJq9DXm",
        "outputId": "8618a1cc-da1f-41df-bcff-cf2e22897a9a"
      },
      "outputs": [
        {
          "name": "stdout",
          "output_type": "stream",
          "text": [
            "(400, 600, 3)\n"
          ]
        },
        {
          "data": {
            "text/plain": [
              "<matplotlib.image.AxesImage at 0x7f9eef7bf210>"
            ]
          },
          "execution_count": 10,
          "metadata": {},
          "output_type": "execute_result"
        },
        {
          "data": {
            "image/png": "[encoded data removed]",
            "text/plain": [
              "<Figure size 432x288 with 1 Axes>"
            ]
          },
          "metadata": {
            "needs_background": "light"
          },
          "output_type": "display_data"
        }
      ],
      "source": [
        "screen = env.render(mode='rgb_array')\n",
        "print(screen.shape)\n",
        "plt.imshow(screen)"
      ]
    },
    {
      "cell_type": "code",
      "execution_count": null,
      "metadata": {
        "colab": {
          "base_uri": "https://localhost:8080/",
          "height": 276
        },
        "id": "Du4nKwV29FgG",
        "outputId": "5504681d-f330-425b-f02f-b9446928a4eb"
      },
      "outputs": [
        {
          "name": "stdout",
          "output_type": "stream",
          "text": [
            "(170, 300, 3)\n"
          ]
        },
        {
          "data": {
            "text/plain": [
              "<matplotlib.image.AxesImage at 0x7f9eef737c50>"
            ]
          },
          "execution_count": 11,
          "metadata": {},
          "output_type": "execute_result"
        },
        {
          "data": {
            "image/png": "[encoded data removed]",
            "text/plain": [
              "<Figure size 432x288 with 1 Axes>"
            ]
          },
          "metadata": {
            "needs_background": "light"
          },
          "output_type": "display_data"
        }
      ],
      "source": [
        "cropped_screen = screen[150:320, 150:450, :]\n",
        "print(cropped_screen.shape)\n",
        "plt.imshow(cropped_screen)"
      ]
    },
    {
      "cell_type": "code",
      "execution_count": null,
      "metadata": {
        "colab": {
          "base_uri": "https://localhost:8080/",
          "height": 293
        },
        "id": "Z4Ims_u9AcAp",
        "outputId": "1eb2bba0-3e39-49e9-f9f9-6acd57b073c7"
      },
      "outputs": [
        {
          "name": "stdout",
          "output_type": "stream",
          "text": [
            "(170, 300)\n",
            "(0.0, 254.97449999999998)\n"
          ]
        },
        {
          "data": {
            "text/plain": [
              "<matplotlib.image.AxesImage at 0x7f9eede65b50>"
            ]
          },
          "execution_count": 12,
          "metadata": {},
          "output_type": "execute_result"
        },
        {
          "data": {
            "image/png": "[encoded data removed]",
            "text/plain": [
              "<Figure size 432x288 with 1 Axes>"
            ]
          },
          "metadata": {
            "needs_background": "light"
          },
          "output_type": "display_data"
        }
      ],
      "source": [
        "grayscale_cropped_screen = 0.2989 * cropped_screen[..., 0] + 0.5870 * cropped_screen[..., 1] + 0.1140 * cropped_screen[..., 2]\n",
        "print(grayscale_cropped_screen.shape)\n",
        "print((grayscale_cropped_screen.min(), grayscale_cropped_screen.max()))\n",
        "plt.imshow(grayscale_cropped_screen, cmap='gray')"
      ]
    },
    {
      "cell_type": "code",
      "execution_count": null,
      "metadata": {
        "colab": {
          "base_uri": "https://localhost:8080/",
          "height": 276
        },
        "id": "vnp8s-XECKk4",
        "outputId": "107dbf22-cab9-49e0-ba52-8e31701c243d"
      },
      "outputs": [
        {
          "name": "stdout",
          "output_type": "stream",
          "text": [
            "(0.0, 0.9999)\n"
          ]
        },
        {
          "data": {
            "text/plain": [
              "<matplotlib.image.AxesImage at 0x7f9eeddf16d0>"
            ]
          },
          "execution_count": 13,
          "metadata": {},
          "output_type": "execute_result"
        },
        {
          "data": {
            "image/png": "[encoded data removed]",
            "text/plain": [
              "<Figure size 432x288 with 1 Axes>"
            ]
          },
          "metadata": {
            "needs_background": "light"
          },
          "output_type": "display_data"
        }
      ],
      "source": [
        "normalized_grayscale_cropped_screen = grayscale_cropped_screen.astype(np.float32) / 255.\n",
        "print((normalized_grayscale_cropped_screen.min(), normalized_grayscale_cropped_screen.max()))\n",
        "plt.imshow(normalized_grayscale_cropped_screen, cmap='gray')"
      ]
    },
    {
      "cell_type": "code",
      "execution_count": null,
      "metadata": {
        "colab": {
          "base_uri": "https://localhost:8080/",
          "height": 303
        },
        "id": "uX5LHA1RE1u1",
        "outputId": "67a442a4-c831-4999-f794-3f49a2d346b9"
      },
      "outputs": [
        {
          "name": "stdout",
          "output_type": "stream",
          "text": [
            "(64, 64)\n"
          ]
        },
        {
          "data": {
            "text/plain": [
              "<matplotlib.image.AxesImage at 0x7f9eedd69210>"
            ]
          },
          "execution_count": 14,
          "metadata": {},
          "output_type": "execute_result"
        },
        {
          "data": {
            "image/png": "[encoded data removed]",
            "text/plain": [
              "<Figure size 432x288 with 1 Axes>"
            ]
          },
          "metadata": {
            "needs_background": "light"
          },
          "output_type": "display_data"
        }
      ],
      "source": [
        "downresolutioned_normalized_grayscale_cropped_screen = resize(normalized_grayscale_cropped_screen, output_shape=(64, 64))\n",
        "print(downresolutioned_normalized_grayscale_cropped_screen.shape)\n",
        "plt.imshow(downresolutioned_normalized_grayscale_cropped_screen, cmap='gray')"
      ]
    },
    {
      "cell_type": "code",
      "execution_count": null,
      "metadata": {
        "id": "UP4WjKy_7N_c"
      },
      "outputs": [],
      "source": [
        "def preprocess_input(screen):\n",
        "    cropped_screen = screen[150:320, 150:450, :]\n",
        "    grayscale_cropped_screen = 0.2989 * cropped_screen[..., 0] + 0.5870 * cropped_screen[..., 1] + 0.1140 * cropped_screen[..., 2]\n",
        "    normalized_grayscale_cropped_screen = grayscale_cropped_screen.astype(np.float32) / 255.\n",
        "    downresolutioned_normalized_grayscale_cropped_screen = resize(normalized_grayscale_cropped_screen, output_shape=(64, 64))\n",
        "    return downresolutioned_normalized_grayscale_cropped_screen"
      ]
    },
    {
      "cell_type": "code",
      "execution_count": null,
      "metadata": {
        "id": "Pry_Nxqf01Fm"
      },
      "outputs": [],
      "source": [
        "def get_state(env):\n",
        "    screen = env.render(mode='rgb_array')\n",
        "    preprocessed_screen = preprocess_input(screen)\n",
        "    expanded_screen = np.expand_dims(preprocessed_screen, 2)\n",
        "    return expanded_screen"
      ]
    },
    {
      "cell_type": "markdown",
      "metadata": {},
      "source": [
        "### Declare Agent"
      ]
    },
    {
      "cell_type": "code",
      "execution_count": null,
      "metadata": {},
      "outputs": [],
      "source": [
        "PIXELS_AGENT_CONFIG = {\n",
        "    'batch_size': 128,\n",
        "    'alpha': 0.005,\n",
        "    'epsilon': 1.0,\n",
        "    'min_epsilon': 0.05,\n",
        "    'epsilon_decay': 0.99,\n",
        "    'gamma': 0.999,\n",
        "    'tau': 1.0\n",
        "}"
      ]
    },
    {
      "cell_type": "code",
      "execution_count": null,
      "metadata": {
        "id": "_pbXjvW2ECC-"
      },
      "outputs": [],
      "source": [
        "def DQN_Pixels(input_shape, output_shape, alpha: float):\n",
        "    model = Sequential(layers=[\n",
        "        Input(shape=input_shape),\n",
        "        Conv2D(16, kernel_size=5, strides=2, activation='relu', kernel_initializer='he_uniform', padding='same'),\n",
        "        BatchNormalization(),\n",
        "        Conv2D(16, kernel_size=5, strides=2, activation='relu', kernel_initializer='he_uniform', padding='same'),\n",
        "        BatchNormalization(),\n",
        "        Conv2D(16, kernel_size=5, strides=2, activation='relu', kernel_initializer='he_uniform', padding='same'),\n",
        "        BatchNormalization(),\n",
        "        Conv2D(16, kernel_size=5, strides=2, activation='relu', kernel_initializer='he_uniform', padding='same'),\n",
        "        BatchNormalization(),\n",
        "        Flatten(),\n",
        "        Dense(output_shape)\n",
        "    ])\n",
        "    model.compile(loss=Huber(), optimizer=RMSprop(learning_rate=alpha))\n",
        "    return model"
      ]
    },
    {
      "cell_type": "code",
      "execution_count": null,
      "metadata": {},
      "outputs": [],
      "source": [
        "class DQN_Pixels_Agent(Agent):\n",
        "    def __init__(self,\n",
        "                 env,\n",
        "                 batch_size: int,\n",
        "                 alpha: float,\n",
        "                 epsilon: float,\n",
        "                 min_epsilon: float,\n",
        "                 epsilon_decay: float,\n",
        "                 gamma: float,\n",
        "                 tau: float,\n",
        "                 max_memory_length: int = 20_000,\n",
        "                 checkpoint_interval: int = 10,\n",
        "                 log_file: str = 'progress.log'):\n",
        "        self.env = env\n",
        "        self.batch_size = batch_size\n",
        "        self.alpha = alpha\n",
        "        self.epsilon = epsilon\n",
        "        self.min_epsilon = min_epsilon\n",
        "        self.epsilon_decay = epsilon_decay\n",
        "        self.gamma = gamma\n",
        "        self.tau = tau\n",
        "        self.replay_buffer = ReplayBuffer(max_length = max_memory_length)\n",
        "        self.model = DQN_Pixels(input_shape=(64, 64, 1),\n",
        "                         output_shape=env.action_space.n,\n",
        "                         alpha=alpha)\n",
        "        self.target_model = DQN_Pixels(input_shape=(64, 64, 1),\n",
        "                         output_shape=env.action_space.n,\n",
        "                         alpha=alpha)\n",
        "        self.file_logger = FileLogger(ARTIFACT_DIRECTORY + log_file, 'Episode', 'Steps', 'Total_Rewards')\n",
        "        self.checkpoint_interval = checkpoint_interval\n",
        "    \n",
        "    def checkpoint(self, episode, steps, total_rewards):\n",
        "        self.file_logger.log(episode=episode, steps=steps, total_rewards=total_rewards)\n",
        "        if episode % self.checkpoint_interval == 0:\n",
        "            self.model.save(ARTIFACT_DIRECTORY + f'{episode}.h5')\n",
        "    \n",
        "    def act(self, state):\n",
        "        if np.random.uniform(0, 1) < self.epsilon:\n",
        "            return self.env.action_space.sample()\n",
        "        return np.argmax(self.model.predict(state.reshape(1, 64, 64, 1))[0])\n",
        "    \n",
        "    def calculate_target_values(self, memory_batch):\n",
        "        states = []\n",
        "        next_states = []\n",
        "        for sample in memory_batch:\n",
        "            states.append(sample[0])\n",
        "            next_states.append(sample[3])\n",
        "        states = np.array(states)\n",
        "        next_states = np.array(next_states)\n",
        "\n",
        "        q_values = self.model.predict(states)\n",
        "        target_q_values = self.target_model.predict(states)\n",
        "\n",
        "        q_values_next_state = self.model.predict(next_states)\n",
        "        target_q_values_next_state = self.target_model.predict(next_states)\n",
        "\n",
        "        targets = []\n",
        "        for index, (s, a, r, s_, d) in enumerate(memory_batch):\n",
        "            best_action = np.argmax(q_values_next_state[index])\n",
        "            best_action_next_state_q_value = target_q_values_next_state[index][best_action]\n",
        "            \n",
        "            target_vector = [0, 0]\n",
        "            target_vector[a] = r if d else r + self.gamma * best_action_next_state_q_value\n",
        "            targets.append(target_vector)\n",
        "\n",
        "        return states, np.array(targets)\n",
        "\n",
        "    def learn(self):\n",
        "        if len(self.replay_buffer) >= self.batch_size:\n",
        "            samples = self.replay_buffer.sample(batch_size=self.batch_size)\n",
        "            states, targets = self.calculate_target_values(samples)\n",
        "            self.model.fit(states, targets, epochs=1, batch_size=targets.shape[0], verbose=0)\n",
        "    \n",
        "    def transfer_weights(self):\n",
        "        policy_weights = self.model.get_weights()\n",
        "        target_weights = self.target_model.get_weights()\n",
        "        if self.tau < 1.0:\n",
        "            for i, weights in enumerate(policy_weights):\n",
        "                target_weights[i] = weights * self.tau + target_weights[i] * (1 - self.tau)\n",
        "        self.target_model.set_weights(target_weights)\n",
        "    \n",
        "    def remember(self, state, action, reward, next_state, done):\n",
        "        self.replay_buffer.append((state, action, reward, next_state, done))\n",
        "    \n",
        "    def decay_epsilon(self):\n",
        "        self.epsilon = max(self.min_epsilon, self.epsilon * self.epsilon_decay)"
      ]
    },
    {
      "cell_type": "code",
      "execution_count": null,
      "metadata": {},
      "outputs": [],
      "source": []
    },
    {
      "cell_type": "markdown",
      "metadata": {},
      "source": [
        "### Plot Learning Curve"
      ]
    },
    {
      "cell_type": "code",
      "execution_count": null,
      "metadata": {},
      "outputs": [],
      "source": [
        "# show plot"
      ]
    },
    {
      "cell_type": "markdown",
      "metadata": {},
      "source": [
        "### Preview Performance"
      ]
    },
    {
      "cell_type": "code",
      "execution_count": null,
      "metadata": {},
      "outputs": [],
      "source": [
        "# show video/gif"
      ]
    },
    {
      "cell_type": "code",
      "execution_count": null,
      "metadata": {
        "id": "xbTLYsHhDXtV"
      },
      "outputs": [],
      "source": [
        "ARTIFACT_DIRECTORY = 'drive/MyDrive/rl/cartpole-pixel/'\n",
        "LOG_FILE = 'progress-simple.log'"
      ]
    },
    {
      "cell_type": "markdown",
      "metadata": {},
      "source": [
        "## DIVIDER"
      ]
    },
    {
      "cell_type": "code",
      "execution_count": null,
      "metadata": {
        "id": "h1V_jlsG5VfO"
      },
      "outputs": [],
      "source": []
    },
    {
      "cell_type": "code",
      "execution_count": null,
      "metadata": {
        "id": "Olt2kUtZD5gr"
      },
      "outputs": [],
      "source": [
        "# class Agent:\n",
        "#     def __init__(self,\n",
        "#                  env,\n",
        "#                  batch_size: int,\n",
        "#                  alpha: float,\n",
        "#                  alpha_decay: float,\n",
        "#                  epsilon: float,\n",
        "#                  min_epsilon: float,\n",
        "#                  epsilon_decay: float,\n",
        "#                  gamma: float,\n",
        "#                  tau: float,\n",
        "#                  max_memory_length: int = 2000,\n",
        "#                  checkpoint_interval: int = 10,\n",
        "#                  log_file: str = 'progress.log'):\n",
        "#         self.env = env\n",
        "#         self.batch_size = batch_size\n",
        "#         self.alpha = alpha\n",
        "#         self.alpha_decay = alpha_decay\n",
        "#         self.epsilon = epsilon\n",
        "#         self.min_epsilon = min_epsilon\n",
        "#         self.epsilon_decay = epsilon_decay\n",
        "#         self.gamma = gamma\n",
        "#         self.tau = tau\n",
        "#         self.replay_buffer = ReplayBuffer(max_length = max_memory_length)\n",
        "#         # self.model = DQN(input_shape=(64, 64, 1),\n",
        "#         #                  output_shape=env.action_space.n,\n",
        "#         #                  alpha=alpha,\n",
        "#         #                  regularization=regularization)\n",
        "#         # self.target_model = DQN(input_shape=(64, 64, 1),\n",
        "#         #                  output_shape=env.action_space.n,\n",
        "#         #                  alpha=alpha,\n",
        "#         #                  regularization=regularization)\n",
        "#         self.model = DQN_SIMPLE(input_shape=env.observation_space.shape,\n",
        "#                          output_shape=env.action_space.n,\n",
        "#                          alpha=alpha)\n",
        "#         self.target_model = DQN_SIMPLE(input_shape=env.observation_space.shape,\n",
        "#                          output_shape=env.action_space.n,\n",
        "#                          alpha=alpha)\n",
        "#         self.file_logger = FileLogger(ARTIFACT_DIRECTORY + log_file, 'Episode', 'Steps', 'Total_Rewards')\n",
        "#         self.checkpoint_interval = checkpoint_interval\n",
        "    \n",
        "#     def checkpoint(self, episode, steps, total_rewards):\n",
        "#         self.file_logger.log(episode=episode, steps=steps, total_rewards=total_rewards)\n",
        "#         if episode % self.checkpoint_interval == 0:\n",
        "#             self.model.save(ARTIFACT_DIRECTORY + f'{episode}.h5')\n",
        "    \n",
        "#     def act(self, state):\n",
        "#         if np.random.uniform(0, 1) < self.epsilon:\n",
        "#             return self.env.action_space.sample()\n",
        "#         return np.argmax(self.model.predict(state.reshape(1, -1))[0])\n",
        "    \n",
        "#     def calculate_target_values(self, memory_batch):\n",
        "#         states = []\n",
        "#         next_states = []\n",
        "#         for sample in memory_batch:\n",
        "#             states.append(sample[0])\n",
        "#             next_states.append(sample[3])\n",
        "#         states = np.array(states)\n",
        "#         next_states = np.array(next_states)\n",
        "\n",
        "#         q_values = self.model.predict(states)\n",
        "#         target_q_values = self.target_model.predict(states)\n",
        "\n",
        "#         q_values_next_state = self.model.predict(next_states)\n",
        "#         target_q_values_next_state = self.target_model.predict(next_states)\n",
        "\n",
        "#         targets = []\n",
        "#         for index, (s, a, r, s_, d) in enumerate(memory_batch):\n",
        "#             best_action = np.argmax(q_values_next_state[index])\n",
        "#             best_action_next_state_q_value = target_q_values_next_state[index][best_action]\n",
        "            \n",
        "#             target_vector = [0, 0]\n",
        "#             target_vector[a] = r if d else r + self.gamma * best_action_next_state_q_value\n",
        "#             targets.append(target_vector)\n",
        "\n",
        "#         return states, np.array(targets)\n",
        "\n",
        "#     def learn(self):\n",
        "#         if len(self.replay_buffer) >= self.batch_size:\n",
        "#             samples = self.replay_buffer.sample(batch_size=self.batch_size)\n",
        "#             states, targets = self.calculate_target_values(samples)\n",
        "#             self.model.fit(states, targets, epochs=1, batch_size=targets.shape[0], verbose=0)\n",
        "    \n",
        "#     def transfer_weights(self):\n",
        "#         policy_weights = self.model.get_weights()\n",
        "#         target_weights = self.target_model.get_weights()\n",
        "#         if self.tau < 1.0:\n",
        "#             for i, weights in enumerate(policy_weights):\n",
        "#                 target_weights[i] = weights * self.tau + target_weights[i] * (1 - self.tau)\n",
        "#         self.target_model.set_weights(target_weights)\n",
        "    \n",
        "#     def remember(self, state, action, reward, next_state, done):\n",
        "#         self.replay_buffer.append((state, action, reward, next_state, done))\n",
        "    \n",
        "#     def decay_epsilon(self):\n",
        "#         self.epsilon = max(self.min_epsilon, self.epsilon * self.epsilon_decay)"
      ]
    },
    {
      "cell_type": "code",
      "execution_count": null,
      "metadata": {
        "id": "1geGP_48V60a"
      },
      "outputs": [],
      "source": [
        "# def running_mean(x, N):\n",
        "#     cumsum = np.cumsum(np.insert(x, 0, 0)) \n",
        "#     return (cumsum[N:] - cumsum[:-N]) / float(N)"
      ]
    },
    {
      "cell_type": "code",
      "execution_count": 1,
      "metadata": {
        "colab": {
          "base_uri": "https://localhost:8080/",
          "height": 265
        },
        "id": "1sjlrHqqUAOS",
        "outputId": "866b27f5-fe50-47e5-e41c-ee27a1c6b75c"
      },
      "outputs": [],
      "source": [
        "# ## Random agent\n",
        "# def random(episodes=1000, running_intervals=[10, 20]):\n",
        "#     durations = []\n",
        "#     for e in range(episodes):\n",
        "#         env.reset()\n",
        "#         for t in range(200):\n",
        "#             done = env.step(env.action_space.sample())[2]\n",
        "#             if done:\n",
        "#                 break\n",
        "#         durations.append(t)\n",
        "#     plt.plot(range(episodes), durations, label='actual')\n",
        "#     for i in running_intervals:\n",
        "#         plt.plot(range(i, episodes + 1), running_mean(durations, i), label=f'{i}-Episode Running Mean')\n",
        "#     plt.legend()\n",
        "#     plt.show()\n",
        "\n",
        "# random()"
      ]
    },
    {
      "cell_type": "code",
      "execution_count": null,
      "metadata": {
        "id": "i6hQd1-wG4gM"
      },
      "outputs": [],
      "source": [
        "# wandb.login()\n",
        "# wandb.init(project=\"cartpole-dqn-pixel\",\n",
        "#            entity=\"ethanolx\",\n",
        "#            config=AGENT_CONFIG)"
      ]
    },
    {
      "cell_type": "code",
      "execution_count": null,
      "metadata": {
        "id": "ltTV59TiFobN"
      },
      "outputs": [],
      "source": [
        "def train_on_stats(env):\n",
        "    episodes = 1000\n",
        "    max_steps_per_episode = 200\n",
        "    target_model_train_interval = 5\n",
        "    reward_progress = RewardTracker(max_length=20)\n",
        "    dqn_agent = Agent(env=env, **AGENT_CONFIG, log_file=LOG_FILE)\n",
        "    for episode in range(1, episodes + 1):\n",
        "        state = env.reset()\n",
        "        # prev_screen = get_state(env)\n",
        "        # current_screen = get_state(env)\n",
        "        # state = current_screen - prev_screen\n",
        "        total_episode_rewards = 0\n",
        "        for step in range(max_steps_per_episode):\n",
        "            # prev_screen = current_screen\n",
        "\n",
        "            action = dqn_agent.act(state)\n",
        "            new_state, reward, done, _ = env.step(action)\n",
        "\n",
        "            # current_screen = get_state(env)\n",
        "\n",
        "            # new_state = current_screen - prev_screen\n",
        "            \n",
        "            if done:\n",
        "                reward = -10\n",
        "\n",
        "            total_episode_rewards += reward\n",
        "            print(f'\\rEpisode: {episode}; Step: {step}; Reward: {reward}; Total Episode Rewards (thus far): {total_episode_rewards}', end='')\n",
        "\n",
        "            dqn_agent.remember(state, action, reward, new_state, done)\n",
        "            dqn_agent.learn()\n",
        "    \n",
        "            state = new_state\n",
        "\n",
        "            if done:\n",
        "                break\n",
        "        else:\n",
        "            print(f'Success')\n",
        "\n",
        "        if episode % target_model_train_interval == 0:\n",
        "            dqn_agent.transfer_weights()\n",
        "        reward_progress.append(total_episode_rewards)\n",
        "        print(f'\\nRolling Mean: {reward_progress.get_rolling_mean()}')\n",
        "        dqn_agent.checkpoint(episode=episode, steps=step, total_rewards=total_episode_rewards)\n",
        "        wandb.log({\n",
        "            'episode': episode,\n",
        "            'epsilon': dqn_agent.epsilon,\n",
        "            'steps': step,\n",
        "            'total rewards': total_episode_rewards\n",
        "        })\n",
        "\n",
        "        dqn_agent.decay_epsilon()\n",
        "        print(f'\\nNew Epsilon: {dqn_agent.epsilon}')"
      ]
    },
    {
      "cell_type": "code",
      "execution_count": null,
      "metadata": {
        "id": "gZQTnEuOcKVA"
      },
      "outputs": [],
      "source": [
        "class PixelAgent:\n",
        "    def __init__(self,\n",
        "                 env,\n",
        "                 batch_size: int,\n",
        "                 alpha: float,\n",
        "                 epsilon: float,\n",
        "                 min_epsilon: float,\n",
        "                 epsilon_decay: float,\n",
        "                 gamma: float,\n",
        "                 tau: float,\n",
        "                 max_memory_length: int = 20_000,\n",
        "                 checkpoint_interval: int = 10,\n",
        "                 log_file: str = 'progress.log'):\n",
        "        self.env = env\n",
        "        self.batch_size = batch_size\n",
        "        self.alpha = alpha\n",
        "        self.epsilon = epsilon\n",
        "        self.min_epsilon = min_epsilon\n",
        "        self.epsilon_decay = epsilon_decay\n",
        "        self.gamma = gamma\n",
        "        self.tau = tau\n",
        "        self.replay_buffer = ReplayBuffer(max_length = max_memory_length)\n",
        "        self.model = DQN(input_shape=(64, 64, 1),\n",
        "                         output_shape=env.action_space.n,\n",
        "                         alpha=alpha)\n",
        "        self.target_model = DQN(input_shape=(64, 64, 1),\n",
        "                         output_shape=env.action_space.n,\n",
        "                         alpha=alpha)\n",
        "        self.file_logger = FileLogger(ARTIFACT_DIRECTORY + log_file, 'Episode', 'Steps', 'Total_Rewards')\n",
        "        self.checkpoint_interval = checkpoint_interval\n",
        "    \n",
        "    def checkpoint(self, episode, steps, total_rewards):\n",
        "        self.file_logger.log(episode=episode, steps=steps, total_rewards=total_rewards)\n",
        "        if episode % self.checkpoint_interval == 0:\n",
        "            self.model.save(ARTIFACT_DIRECTORY + f'{episode}.h5')\n",
        "    \n",
        "    def act(self, state):\n",
        "        if np.random.uniform(0, 1) < self.epsilon:\n",
        "            return self.env.action_space.sample()\n",
        "        return np.argmax(self.model.predict(state.reshape(1, 64, 64, 1))[0])\n",
        "    \n",
        "    def calculate_target_values(self, memory_batch):\n",
        "        states = []\n",
        "        next_states = []\n",
        "        for sample in memory_batch:\n",
        "            states.append(sample[0])\n",
        "            next_states.append(sample[3])\n",
        "        states = np.array(states)\n",
        "        next_states = np.array(next_states)\n",
        "\n",
        "        q_values = self.model.predict(states)\n",
        "        target_q_values = self.target_model.predict(states)\n",
        "\n",
        "        q_values_next_state = self.model.predict(next_states)\n",
        "        target_q_values_next_state = self.target_model.predict(next_states)\n",
        "\n",
        "        targets = []\n",
        "        for index, (s, a, r, s_, d) in enumerate(memory_batch):\n",
        "            best_action = np.argmax(q_values_next_state[index])\n",
        "            best_action_next_state_q_value = target_q_values_next_state[index][best_action]\n",
        "            \n",
        "            target_vector = [0, 0]\n",
        "            target_vector[a] = r if d else r + self.gamma * best_action_next_state_q_value\n",
        "            targets.append(target_vector)\n",
        "\n",
        "        return states, np.array(targets)\n",
        "\n",
        "    def learn(self):\n",
        "        if len(self.replay_buffer) >= self.batch_size:\n",
        "            samples = self.replay_buffer.sample(batch_size=self.batch_size)\n",
        "            states, targets = self.calculate_target_values(samples)\n",
        "            self.model.fit(states, targets, epochs=1, batch_size=targets.shape[0], verbose=0)\n",
        "    \n",
        "    def transfer_weights(self):\n",
        "        policy_weights = self.model.get_weights()\n",
        "        target_weights = self.target_model.get_weights()\n",
        "        if self.tau < 1.0:\n",
        "            for i, weights in enumerate(policy_weights):\n",
        "                target_weights[i] = weights * self.tau + target_weights[i] * (1 - self.tau)\n",
        "        self.target_model.set_weights(target_weights)\n",
        "    \n",
        "    def remember(self, state, action, reward, next_state, done):\n",
        "        self.replay_buffer.append((state, action, reward, next_state, done))\n",
        "    \n",
        "    def decay_epsilon(self):\n",
        "        self.epsilon = max(self.min_epsilon, self.epsilon * self.epsilon_decay)"
      ]
    },
    {
      "cell_type": "code",
      "execution_count": null,
      "metadata": {
        "id": "ypngHv5HcFDD"
      },
      "outputs": [],
      "source": [
        "def train_on_pixels(env):\n",
        "    episodes = 1000\n",
        "    max_steps_per_episode = 200\n",
        "    target_model_train_interval = 5\n",
        "    reward_progress = RewardTracker(max_length=20)\n",
        "    dqn_agent = PixelAgent(env=env, **PIXEL_AGENT_CONFIG, log_file=LOG_FILE)\n",
        "    for episode in range(1, episodes + 1):\n",
        "        state = env.reset()\n",
        "        prev_screen = get_state(env)\n",
        "        current_screen = get_state(env)\n",
        "        state = current_screen - prev_screen\n",
        "        total_episode_rewards = 0\n",
        "        for step in range(max_steps_per_episode):\n",
        "            prev_screen = current_screen\n",
        "\n",
        "            action = dqn_agent.act(state)\n",
        "            _, reward, done, _ = env.step(action)\n",
        "\n",
        "            current_screen = get_state(env)\n",
        "\n",
        "            new_state = current_screen - prev_screen\n",
        "            \n",
        "            if done and step < max_steps_per_episode - 1:\n",
        "                reward = -10\n",
        "\n",
        "            total_episode_rewards += reward\n",
        "            print(f'\\rEpisode: {episode}; Step: {step}; Reward: {reward}; Total Episode Rewards (thus far): {total_episode_rewards}', end='')\n",
        "\n",
        "            dqn_agent.remember(state, action, reward, new_state, done)\n",
        "            dqn_agent.learn()\n",
        "    \n",
        "            state = new_state\n",
        "\n",
        "            if done:\n",
        "                break\n",
        "\n",
        "        if episode % target_model_train_interval == 0:\n",
        "            dqn_agent.transfer_weights()\n",
        "        reward_progress.append(total_episode_rewards)\n",
        "        print(f'\\nRolling Mean: {reward_progress.get_rolling_mean()}')\n",
        "        dqn_agent.checkpoint(episode=episode, steps=step, total_rewards=total_episode_rewards)\n",
        "        wandb.log({\n",
        "            'episode': episode,\n",
        "            'epsilon': dqn_agent.epsilon,\n",
        "            'steps': step,\n",
        "            'total rewards': total_episode_rewards\n",
        "        })\n",
        "\n",
        "        dqn_agent.decay_epsilon()\n",
        "        print(f'\\nNew Epsilon: {dqn_agent.epsilon}')"
      ]
    },
    {
      "cell_type": "code",
      "execution_count": null,
      "metadata": {},
      "outputs": [],
      "source": [
        "train_on_pixels(env)"
      ]
    }
  ],
  "metadata": {
    "colab": {
      "collapsed_sections": [],
      "name": "cc.ipynb",
      "provenance": []
    },
    "kernelspec": {
      "display_name": "Python 3",
      "language": "python",
      "name": "python3"
    },
    "language_info": {
      "codemirror_mode": {
        "name": "ipython",
        "version": 3
      },
      "file_extension": ".py",
      "mimetype": "text/x-python",
      "name": "python",
      "nbconvert_exporter": "python",
      "pygments_lexer": "ipython3",
      "version": "3.9.7"
    },
    "widgets": {
      "application/vnd.jupyter.widget-state+json": {
        "2eebc4368aa64af6b32ce4224fe1f3cc": {
          "model_module": "@jupyter-widgets/base",
          "model_module_version": "1.2.0",
          "model_name": "LayoutModel",
          "state": {
            "_model_module": "@jupyter-widgets/base",
            "_model_module_version": "1.2.0",
            "_model_name": "LayoutModel",
            "_view_count": null,
            "_view_module": "@jupyter-widgets/base",
            "_view_module_version": "1.2.0",
            "_view_name": "LayoutView",
            "align_content": null,
            "align_items": null,
            "align_self": null,
            "border": null,
            "bottom": null,
            "display": null,
            "flex": null,
            "flex_flow": null,
            "grid_area": null,
            "grid_auto_columns": null,
            "grid_auto_flow": null,
            "grid_auto_rows": null,
            "grid_column": null,
            "grid_gap": null,
            "grid_row": null,
            "grid_template_areas": null,
            "grid_template_columns": null,
            "grid_template_rows": null,
            "height": null,
            "justify_content": null,
            "justify_items": null,
            "left": null,
            "margin": null,
            "max_height": null,
            "max_width": null,
            "min_height": null,
            "min_width": null,
            "object_fit": null,
            "object_position": null,
            "order": null,
            "overflow": null,
            "overflow_x": null,
            "overflow_y": null,
            "padding": null,
            "right": null,
            "top": null,
            "visibility": null,
            "width": null
          }
        },
        "380fac932d194680b9f7415b04406d6d": {
          "model_module": "@jupyter-widgets/controls",
          "model_module_version": "1.5.0",
          "model_name": "ProgressStyleModel",
          "state": {
            "_model_module": "@jupyter-widgets/controls",
            "_model_module_version": "1.5.0",
            "_model_name": "ProgressStyleModel",
            "_view_count": null,
            "_view_module": "@jupyter-widgets/base",
            "_view_module_version": "1.2.0",
            "_view_name": "StyleView",
            "bar_color": null,
            "description_width": ""
          }
        },
        "57970f4838374aa7a3811b67b359f361": {
          "model_module": "@jupyter-widgets/controls",
          "model_module_version": "1.5.0",
          "model_name": "LabelModel",
          "state": {
            "_dom_classes": [],
            "_model_module": "@jupyter-widgets/controls",
            "_model_module_version": "1.5.0",
            "_model_name": "LabelModel",
            "_view_count": null,
            "_view_module": "@jupyter-widgets/controls",
            "_view_module_version": "1.5.0",
            "_view_name": "LabelView",
            "description": "",
            "description_tooltip": null,
            "layout": "IPY_MODEL_845d21d68d6a49d894ac9e4c6a734e9f",
            "placeholder": "​",
            "style": "IPY_MODEL_b143de5e08e64fa9b45dc068dca7484f",
            "value": " 0.31MB of 0.31MB uploaded (0.00MB deduped)\r"
          }
        },
        "61103bba2e03495388fede9b38845ca7": {
          "model_module": "@jupyter-widgets/controls",
          "model_module_version": "1.5.0",
          "model_name": "FloatProgressModel",
          "state": {
            "_dom_classes": [],
            "_model_module": "@jupyter-widgets/controls",
            "_model_module_version": "1.5.0",
            "_model_name": "FloatProgressModel",
            "_view_count": null,
            "_view_module": "@jupyter-widgets/controls",
            "_view_module_version": "1.5.0",
            "_view_name": "ProgressView",
            "bar_style": "",
            "description": "",
            "description_tooltip": null,
            "layout": "IPY_MODEL_2eebc4368aa64af6b32ce4224fe1f3cc",
            "max": 1,
            "min": 0,
            "orientation": "horizontal",
            "style": "IPY_MODEL_380fac932d194680b9f7415b04406d6d",
            "value": 1
          }
        },
        "7276817451ac4977a4cf08df4b66f592": {
          "model_module": "@jupyter-widgets/base",
          "model_module_version": "1.2.0",
          "model_name": "LayoutModel",
          "state": {
            "_model_module": "@jupyter-widgets/base",
            "_model_module_version": "1.2.0",
            "_model_name": "LayoutModel",
            "_view_count": null,
            "_view_module": "@jupyter-widgets/base",
            "_view_module_version": "1.2.0",
            "_view_name": "LayoutView",
            "align_content": null,
            "align_items": null,
            "align_self": null,
            "border": null,
            "bottom": null,
            "display": null,
            "flex": null,
            "flex_flow": null,
            "grid_area": null,
            "grid_auto_columns": null,
            "grid_auto_flow": null,
            "grid_auto_rows": null,
            "grid_column": null,
            "grid_gap": null,
            "grid_row": null,
            "grid_template_areas": null,
            "grid_template_columns": null,
            "grid_template_rows": null,
            "height": null,
            "justify_content": null,
            "justify_items": null,
            "left": null,
            "margin": null,
            "max_height": null,
            "max_width": null,
            "min_height": null,
            "min_width": null,
            "object_fit": null,
            "object_position": null,
            "order": null,
            "overflow": null,
            "overflow_x": null,
            "overflow_y": null,
            "padding": null,
            "right": null,
            "top": null,
            "visibility": null,
            "width": null
          }
        },
        "845d21d68d6a49d894ac9e4c6a734e9f": {
          "model_module": "@jupyter-widgets/base",
          "model_module_version": "1.2.0",
          "model_name": "LayoutModel",
          "state": {
            "_model_module": "@jupyter-widgets/base",
            "_model_module_version": "1.2.0",
            "_model_name": "LayoutModel",
            "_view_count": null,
            "_view_module": "@jupyter-widgets/base",
            "_view_module_version": "1.2.0",
            "_view_name": "LayoutView",
            "align_content": null,
            "align_items": null,
            "align_self": null,
            "border": null,
            "bottom": null,
            "display": null,
            "flex": null,
            "flex_flow": null,
            "grid_area": null,
            "grid_auto_columns": null,
            "grid_auto_flow": null,
            "grid_auto_rows": null,
            "grid_column": null,
            "grid_gap": null,
            "grid_row": null,
            "grid_template_areas": null,
            "grid_template_columns": null,
            "grid_template_rows": null,
            "height": null,
            "justify_content": null,
            "justify_items": null,
            "left": null,
            "margin": null,
            "max_height": null,
            "max_width": null,
            "min_height": null,
            "min_width": null,
            "object_fit": null,
            "object_position": null,
            "order": null,
            "overflow": null,
            "overflow_x": null,
            "overflow_y": null,
            "padding": null,
            "right": null,
            "top": null,
            "visibility": null,
            "width": null
          }
        },
        "b143de5e08e64fa9b45dc068dca7484f": {
          "model_module": "@jupyter-widgets/controls",
          "model_module_version": "1.5.0",
          "model_name": "DescriptionStyleModel",
          "state": {
            "_model_module": "@jupyter-widgets/controls",
            "_model_module_version": "1.5.0",
            "_model_name": "DescriptionStyleModel",
            "_view_count": null,
            "_view_module": "@jupyter-widgets/base",
            "_view_module_version": "1.2.0",
            "_view_name": "StyleView",
            "description_width": ""
          }
        },
        "d59dd433d5f34cbfaff6aeae75e86d8f": {
          "model_module": "@jupyter-widgets/controls",
          "model_module_version": "1.5.0",
          "model_name": "VBoxModel",
          "state": {
            "_dom_classes": [],
            "_model_module": "@jupyter-widgets/controls",
            "_model_module_version": "1.5.0",
            "_model_name": "VBoxModel",
            "_view_count": null,
            "_view_module": "@jupyter-widgets/controls",
            "_view_module_version": "1.5.0",
            "_view_name": "VBoxView",
            "box_style": "",
            "children": [
              "IPY_MODEL_57970f4838374aa7a3811b67b359f361",
              "IPY_MODEL_61103bba2e03495388fede9b38845ca7"
            ],
            "layout": "IPY_MODEL_7276817451ac4977a4cf08df4b66f592"
          }
        }
      }
    }
  },
  "nbformat": 4,
  "nbformat_minor": 0
}
