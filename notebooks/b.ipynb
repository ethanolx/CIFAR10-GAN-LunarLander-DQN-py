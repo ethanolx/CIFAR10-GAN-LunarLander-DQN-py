{
 "cells": [
  {
   "cell_type": "code",
   "execution_count": 44,
   "metadata": {},
   "outputs": [],
   "source": [
    "import tensorflow as tf"
   ]
  },
  {
   "cell_type": "code",
   "execution_count": 138,
   "metadata": {},
   "outputs": [
    {
     "name": "stdout",
     "output_type": "stream",
     "text": [
      "23 [[6.164452]] [-7.617326] 8272.104\n"
     ]
    }
   ],
   "source": [
    "w = tf.Variable(tf.random.normal((1, 1)), name='w')\n",
    "b = tf.Variable(tf.zeros(1, dtype=tf.float32), name='b')\n",
    "x = tf.constant(value=tf.random.normal((100, 1)))\n",
    "noise = tf.random.normal((100, 1))\n",
    "y = tf.constant(value=x * noise * 100 + tf.random.normal((1,)))\n",
    "a = 0.1\n",
    "e = 0.00001\n",
    "prev_loss = e\n",
    "\n",
    "for epoch in range(1000):\n",
    "    with tf.GradientTape(persistent=True) as tape:\n",
    "        y_hat = x @ w + b\n",
    "        loss = tf.reduce_mean(tf.square(y_hat - y))\n",
    "    if prev_loss - loss.numpy() < e and epoch > 0:\n",
    "        break\n",
    "    prev_loss = loss.numpy()\n",
    "    w.assign_sub(a * tape.gradient(loss, w))\n",
    "    b.assign_sub(a * tape.gradient(loss, b))\n",
    "print(epoch, w.numpy(), b.numpy(), prev_loss)"
   ]
  },
  {
   "cell_type": "code",
   "execution_count": 139,
   "metadata": {},
   "outputs": [
    {
     "data": {
      "text/plain": [
       "<matplotlib.collections.PathCollection at 0x1aa078132b0>"
      ]
     },
     "execution_count": 139,
     "metadata": {},
     "output_type": "execute_result"
    },
    {
     "data": {
      "image/png": "[encoded data removed]",
      "text/plain": [
       "<Figure size 432x288 with 1 Axes>"
      ]
     },
     "metadata": {
      "needs_background": "light"
     },
     "output_type": "display_data"
    }
   ],
   "source": [
    "import matplotlib.pyplot as plt\n",
    "\n",
    "plt.scatter(x, y)"
   ]
  }
 ],
 "metadata": {
  "interpreter": {
   "hash": "a154e1d5516d3ac496b2fe34503a47627485703bfecc1d951dada34e24d1d7fa"
  },
  "kernelspec": {
   "display_name": "Python 3.9.7 64-bit",
   "language": "python",
   "name": "python3"
  },
  "language_info": {
   "name": "python",
   "version": "3.9.7"
  },
  "orig_nbformat": 4
 },
 "nbformat": 4,
 "nbformat_minor": 2
}
