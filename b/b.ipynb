{
  "cells": [
    {
      "cell_type": "markdown",
      "metadata": {},
      "source": [
        "# DELE CA2 Part B - RL"
      ]
    },
    {
      "cell_type": "code",
      "execution_count": 1,
      "metadata": {
        "colab": {
          "base_uri": "https://localhost:8080/"
        },
        "id": "JfzQ-EPaQ8I4",
        "outputId": "b8c90521-20c9-427e-a96a-e047a4532451"
      },
      "outputs": [],
      "source": [
        "# Run in Google Colab\n",
        "!apt-get install -y xvfb python-opengl ffmpeg > /dev/null 2>&1\n",
        "!apt-get install cmake > /dev/null 2>&1\n",
        "!pip install --upgrade setuptools > /dev/null 2>&1\n",
        "!pip install ez-setup > /dev/null 2>&1\n",
        "!pip install gym wandb pyvirtualdisplay box2d box2d-py > /dev/null 2&>1"
      ]
    },
    {
      "cell_type": "markdown",
      "metadata": {},
      "source": [
        "## Background Research\n",
        "\n",
        "The LunarLander-v2 environment is not easily installed on Windows. Therefore we used Google Colab to run the experiments. We mounted Google Drive to save the required artifacts periodically, as well as the log files which contained the learning progress of the models.\n",
        "\n",
        "The observation space of LunarLander-v2 consists of 8 elements. They are defined as follows:\n",
        "<table style=\"font-size: small;\">\n",
        "    <tbody>\n",
        "        <tr>\n",
        "            <td>X-Coordinate (float)</td>\n",
        "            <td>Y-Coordinate (float)</td>\n",
        "            <td>X-Velocity (float)</td>\n",
        "            <td>Y-Velocity (float)</td>\n",
        "            <td>Angle (float)</td>\n",
        "            <td>Angular Velocity (float)</td>\n",
        "            <td>Left Leg Landed (bool)</td>\n",
        "            <td>Right Leg Landed (bool)</td>\n",
        "        </tr>\n",
        "    </tbody>\n",
        "</table>\n",
        "\n",
        "The action space of LunarLander-v2 consists of 4 discrete actions. They are defined as follows:\n",
        "<table>\n",
        "    <tbody>\n",
        "        <tr>\n",
        "            <td>Do Nothing</td>\n",
        "            <td>Fire Left Engine</td>\n",
        "            <td>Fire Main (Bottom) Engine</td>\n",
        "            <td>Fire Right Engine</td>\n",
        "        </tr>\n",
        "    </tbody>\n",
        "</table>\n",
        "\n",
        "Reward Scheme\n",
        "* Reward for moving from the top of the screen to the landing pad with zero speed is about 100..140 points.\n",
        "* If the lander moves away from the landing pad it loses reward.\n",
        "* If the lander crashes, it receives an additional -100 points.\n",
        "* If it comes to rest, it receives an additional +100 points.\n",
        "* Each leg with ground contact is +10 points.\n",
        "* Firing the main engine is -0.3 points each frame.\n",
        "* Firing the side engine is -0.03 points each frame.\n",
        "* Solved is 200 points.\n",
        "\n",
        "Starting State\n",
        "* The lander starts at the top center of the viewport with a random initial force applied to its center of mass.\n",
        "\n",
        "Episode Termination Conditions\n",
        "1. the lander crashes (the lander body gets in contact with the moon);\n",
        "2. the lander gets outside of the viewport (`x` coordinate is greater than 1);\n",
        "3. the lander is not awake.\n",
        "\n",
        "> From the [Box2D docs](https://box2d.org/documentation/md__d_1__git_hub_box2d_docs_dynamics.html#autotoc_md61), a body which is not awake is a body which doesn't move and doesn't collide with any other body\n",
        "\n",
        "Candidate RL Algorithms\n",
        "* Simple DQN\n",
        "* Double DQN\n",
        "* Dueling DQN\n",
        "* PPO\n",
        "* REINFORCE\n",
        "* ...\n",
        "\n",
        "The algorithms used were simple DQN and Double DQN.\n",
        "\n",
        "Surprisingly, simple DQN outperformed Double DQN."
      ]
    },
    {
      "cell_type": "markdown",
      "metadata": {},
      "source": [
        "## Import Dependencies"
      ]
    },
    {
      "cell_type": "code",
      "execution_count": 1,
      "metadata": {
        "id": "rsp5j7eJh_2N"
      },
      "outputs": [],
      "source": [
        "# Data Manipulation\n",
        "import numpy as np\n",
        "import pandas as pd\n",
        "import tensorflow as tf\n",
        "\n",
        "# Graphing Dependencies\n",
        "from matplotlib import pyplot as plt\n",
        "import seaborn as sb\n",
        "\n",
        "# Neural Networks\n",
        "from tensorflow.keras.models import Sequential, load_model\n",
        "from tensorflow.keras.layers import *\n",
        "from tensorflow.keras.optimizers import *\n",
        "from tensorflow.keras.optimizers.schedules import PiecewiseConstantDecay\n",
        "from tensorflow.keras.regularizers import *\n",
        "\n",
        "# Reinforcement Learning\n",
        "import gym\n",
        "\n",
        "# Model Tracking\n",
        "import wandb\n",
        "\n",
        "# Data Structures\n",
        "from collections import deque\n",
        "\n",
        "# Display Media\n",
        "from IPython.display import Video\n",
        "from pyvirtualdisplay import Display\n",
        "\n",
        "# Miscellaneous\n",
        "import os\n",
        "import pickle"
      ]
    },
    {
      "cell_type": "markdown",
      "metadata": {},
      "source": [
        "## EDA"
      ]
    },
    {
      "cell_type": "markdown",
      "metadata": {},
      "source": [
        "### Create Environment\n",
        "\n",
        "<table>\n",
        "    <tbody>\n",
        "        <tr>\n",
        "            <th scope=\"row\" style=\"text-align: left;\">Environment</th>\n",
        "            <td>LunarLander</td>\n",
        "        </tr>\n",
        "        <tr>\n",
        "            <th scope=\"row\" style=\"text-align: left;\">Version</th>\n",
        "            <td>2</td>\n",
        "        </tr>\n",
        "    </tbody>\n",
        "</table>"
      ]
    },
    {
      "cell_type": "code",
      "execution_count": null,
      "metadata": {},
      "outputs": [],
      "source": [
        "ENV = gym.make('LunarLander-v2')"
      ]
    },
    {
      "cell_type": "markdown",
      "metadata": {},
      "source": [
        "### Environment Variables"
      ]
    },
    {
      "cell_type": "code",
      "execution_count": null,
      "metadata": {
        "colab": {
          "base_uri": "https://localhost:8080/"
        },
        "id": "Q9gprhW_v8NY",
        "outputId": "c137175f-9968-462e-d0fd-ac1df748984f"
      },
      "outputs": [
        {
          "data": {
            "text/plain": [
              "(8,)"
            ]
          },
          "execution_count": 6,
          "metadata": {},
          "output_type": "execute_result"
        }
      ],
      "source": [
        "# 8 values representing each possible state\n",
        "ENV.observation_space.shape"
      ]
    },
    {
      "cell_type": "code",
      "execution_count": null,
      "metadata": {
        "colab": {
          "base_uri": "https://localhost:8080/"
        },
        "id": "UQmlXKgiv_AB",
        "outputId": "b6c64016-5b93-44bc-be75-567574824ddc"
      },
      "outputs": [
        {
          "data": {
            "text/plain": [
              "Discrete(4)"
            ]
          },
          "metadata": {},
          "output_type": "display_data"
        }
      ],
      "source": [
        "# 4 discrete actions\n",
        "ENV.action_space"
      ]
    },
    {
      "cell_type": "code",
      "execution_count": null,
      "metadata": {
        "colab": {
          "base_uri": "https://localhost:8080/",
          "height": 248
        },
        "id": "8GnqJcWdEmQf",
        "outputId": "a5324df4-23d8-479e-b6fa-235008b9eb45"
      },
      "outputs": [
        {
          "data": {
            "image/png": "[encoded data removed]",
            "text/plain": [
              "<Figure size 432x288 with 1 Axes>"
            ]
          },
          "metadata": {},
          "output_type": "display_data"
        }
      ],
      "source": [
        "# Preview how the environment looks like\n",
        "def display_start_screen(env):\n",
        "    display = Display(visible=False)\n",
        "    display.start()\n",
        "    env.reset()\n",
        "    snapshot = env.render(mode='rgb_array')\n",
        "    plt.imshow(snapshot)\n",
        "    plt.axis('off')\n",
        "\n",
        "display_start_screen(ENV)"
      ]
    },
    {
      "cell_type": "markdown",
      "metadata": {},
      "source": [
        "### Baseline - Random Policy Agent"
      ]
    },
    {
      "cell_type": "code",
      "execution_count": null,
      "metadata": {},
      "outputs": [],
      "source": [
        "#!xvfb-run -a -s \"-screen 0 640x480x24\" python make_video_random.py"
      ]
    },
    {
      "cell_type": "code",
      "execution_count": 2,
      "metadata": {},
      "outputs": [
        {
          "data": {
            "text/html": [
              "<video src=\"./video/LunarLander-v2-Random.mp4\" controls  >\n",
              "      Your browser does not support the <code>video</code> element.\n",
              "    </video>"
            ],
            "text/plain": [
              "<IPython.core.display.Video object>"
            ]
          },
          "execution_count": 2,
          "metadata": {},
          "output_type": "execute_result"
        }
      ],
      "source": [
        "# Video generated using make_video_random.py\n",
        "Video('./video/LunarLander-v2-Random.mp4')"
      ]
    },
    {
      "cell_type": "code",
      "execution_count": null,
      "metadata": {},
      "outputs": [],
      "source": [
        "def random_agent_scores(env, episodes=100):\n",
        "    scores = []\n",
        "    for episode in range(episodes):\n",
        "        env.reset()\n",
        "        done = False\n",
        "        returns = 0\n",
        "        while not done:\n",
        "            action = env.action_space.sample()\n",
        "            _, reward, done, _ = env.step(action)\n",
        "            returns += reward\n",
        "        scores.append(returns)\n",
        "        if episode < 10:\n",
        "            print(f'Episode {episode + 1} Returns: {returns}')\n",
        "    plt.plot(scores)\n",
        "    plt.title('Scores of Random Policy Agent over 100 Episodes')"
      ]
    },
    {
      "cell_type": "code",
      "execution_count": null,
      "metadata": {
        "colab": {
          "base_uri": "https://localhost:8080/",
          "height": 455
        },
        "id": "kRDs7Ll5EmQh",
        "outputId": "53e28b03-1f8b-4ee3-891b-87cddfa6a98c"
      },
      "outputs": [
        {
          "name": "stdout",
          "output_type": "stream",
          "text": [
            "Episode 1 Returns: -103.30978122836316\n",
            "Episode 2 Returns: -220.9447548656821\n",
            "Episode 3 Returns: -75.79906987276433\n",
            "Episode 4 Returns: -272.33746159828013\n",
            "Episode 5 Returns: -317.04431995711474\n",
            "Episode 6 Returns: -155.73558361381237\n",
            "Episode 7 Returns: -114.49178483659843\n",
            "Episode 8 Returns: -160.03647882487172\n",
            "Episode 9 Returns: -225.79553423912128\n",
            "Episode 10 Returns: -85.62504139801258\n"
          ]
        },
        {
          "data": {
            "image/png": "[encoded data removed]",
            "text/plain": [
              "<Figure size 432x288 with 1 Axes>"
            ]
          },
          "metadata": {},
          "output_type": "display_data"
        }
      ],
      "source": [
        "random_agent_scores(env=ENV)"
      ]
    },
    {
      "cell_type": "markdown",
      "metadata": {},
      "source": [
        "## General Utilities"
      ]
    },
    {
      "cell_type": "code",
      "execution_count": null,
      "metadata": {},
      "outputs": [],
      "source": [
        "# wandb.login()"
      ]
    },
    {
      "cell_type": "code",
      "execution_count": null,
      "metadata": {},
      "outputs": [],
      "source": [
        "ARTIFACT_STORE = 'drive/MyDrive/rl/'"
      ]
    },
    {
      "cell_type": "code",
      "execution_count": 3,
      "metadata": {},
      "outputs": [],
      "source": [
        "sb.set_style('darkgrid')"
      ]
    },
    {
      "cell_type": "code",
      "execution_count": 6,
      "metadata": {},
      "outputs": [],
      "source": [
        "class ReplayBuffer:\n",
        "    def __init__(self, max_length: int):\n",
        "        self.max_length = max_length\n",
        "        self.buffer = [None] * self.max_length\n",
        "        self.pointer = 0\n",
        "        self.size = 0\n",
        "\n",
        "    def append(self, memory):\n",
        "        if self.pointer >= self.max_length:\n",
        "            self.pointer = 0\n",
        "        elif self.size < self.max_length:\n",
        "            self.size += 1\n",
        "        self.buffer[self.pointer] = memory\n",
        "        self.pointer += 1\n",
        "\n",
        "    def sample(self, batch_size: int):\n",
        "        return [self.buffer[i] for i in np.random.randint(0, self.size, batch_size)]\n",
        "    \n",
        "    def __getitem__(self, index):\n",
        "        return self.buffer[index]\n",
        "    \n",
        "    def __len__(self):\n",
        "        return self.size"
      ]
    },
    {
      "cell_type": "code",
      "execution_count": 7,
      "metadata": {},
      "outputs": [],
      "source": [
        "class RewardTracker(deque):\n",
        "    def __init__(self, max_length: int):\n",
        "        super().__init__(maxlen=max_length)\n",
        "        self.max_length = max_length\n",
        "\n",
        "    def log(self, total_episodic_rewards):\n",
        "        self.append(total_episodic_rewards)\n",
        "    \n",
        "    def get_rolling_mean(self):\n",
        "        base = min(self.__len__(), self.max_length)\n",
        "        return sum((r for r in self)) / float(base)"
      ]
    },
    {
      "cell_type": "code",
      "execution_count": 8,
      "metadata": {},
      "outputs": [],
      "source": [
        "class FileLogger:\n",
        "    def __init__(self, log_file: str, *args, sep: str=';'):\n",
        "        self.log_file = log_file\n",
        "        self.sep = sep\n",
        "        self.n_args = len(args)\n",
        "        if not os.path.exists(log_file):\n",
        "            self.setup(args)\n",
        "    \n",
        "    def setup(self, args):\n",
        "        header = self.sep.join(args)\n",
        "        with open(self.log_file, mode='w') as f:\n",
        "            f.write(header)\n",
        "            f.write('\\n')\n",
        "\n",
        "    def log(self, **kwargs):\n",
        "        assert len(kwargs) == self.n_args\n",
        "        header = ''\n",
        "        with open(self.log_file, mode='r') as f:\n",
        "            header = f.readlines()[0].replace('\\n', '')\n",
        "        params = header.split(self.sep)\n",
        "        values = (str(kwargs[p.lower()]) for p in params)\n",
        "        entry = self.sep.join(values)\n",
        "        with open(self.log_file, mode='a+') as f:\n",
        "            f.write(entry)\n",
        "            f.write('\\n')\n",
        "        return self\n",
        "    \n",
        "    def get_logs(self):\n",
        "        df = pd.read_csv(self.log_file, header=0, sep=self.sep)\n",
        "        past_rewards = df['Total_Rewards']\n",
        "        return past_rewards"
      ]
    },
    {
      "cell_type": "code",
      "execution_count": null,
      "metadata": {},
      "outputs": [],
      "source": [
        "# Courtesy of https://wingedsheep.com/lunar-lander-dqn/\n",
        "def masked_huber_loss(mask_value, clip_delta):\n",
        "    def f(y_true, y_pred):\n",
        "        error = y_true - y_pred\n",
        "        cond  = tf.abs(error) < clip_delta\n",
        "        mask_true = tf.cast(tf.not_equal(y_true, mask_value), tf.float32)\n",
        "        masked_squared_error = 0.5 * tf.square(mask_true * (y_true - y_pred))\n",
        "        linear_loss  = mask_true * (clip_delta * tf.abs(error) - 0.5 * (clip_delta ** 2))\n",
        "        huber_loss = tf.where(cond, masked_squared_error, linear_loss)\n",
        "        return tf.reduce_sum(huber_loss) / tf.reduce_sum(mask_true)\n",
        "    f.__name__ = 'masked_huber_loss'\n",
        "    return f"
      ]
    },
    {
      "cell_type": "code",
      "execution_count": 4,
      "metadata": {},
      "outputs": [],
      "source": [
        "def plot_learning_curve(log_file):\n",
        "    df = pd.read_csv(log_file, sep=';', header=0)\n",
        "    episodes = df['Episode']\n",
        "    steps = df['Steps']\n",
        "    rewards = df['Total_Rewards']\n",
        "    reward_tracker = RewardTracker(max_length=100)\n",
        "    rolling_score = []\n",
        "    for r in rewards:\n",
        "        reward_tracker.append(r)\n",
        "        rolling_score.append(reward_tracker.get_rolling_mean())\n",
        "\n",
        "    sb.set_style('darkgrid')\n",
        "    fig, ax = plt.subplots(1, 2, figsize=(14, 6))\n",
        "    ax[0].plot(episodes, steps)\n",
        "    ax[0].set_title('Steps')\n",
        "    ax[1].plot(episodes, rewards, label='Reward')\n",
        "    ax[1].plot(episodes, rolling_score, label='100-Episode Rolling Mean')\n",
        "    ax[1].set_title('Score')\n",
        "    ax[1].legend()\n",
        "    return f'Highest Mean Score: {max(rolling_score)}'"
      ]
    },
    {
      "cell_type": "markdown",
      "metadata": {},
      "source": [
        "## Double DQN"
      ]
    },
    {
      "cell_type": "code",
      "execution_count": null,
      "metadata": {},
      "outputs": [],
      "source": [
        "DDQN_ARTIFACT_STORE = ARTIFACT_STORE + 'ddqn/'"
      ]
    },
    {
      "cell_type": "code",
      "execution_count": null,
      "metadata": {},
      "outputs": [],
      "source": [
        "DDQN_CONFIG = {\n",
        "    'batch_size': 128,\n",
        "    'alpha': 0.001,\n",
        "    'epsilon': 1.0,\n",
        "    'min_epsilon': 0.01,\n",
        "    'epsilon_decay': 0.995,\n",
        "    'gamma': 0.95,\n",
        "    'tau': 0.2,\n",
        "}"
      ]
    },
    {
      "cell_type": "code",
      "execution_count": null,
      "metadata": {},
      "outputs": [],
      "source": [
        "wandb.init(project=\"lunarlander-ddqn\",\n",
        "           entity=\"user\",\n",
        "           config=DDQN_CONFIG)"
      ]
    },
    {
      "cell_type": "code",
      "execution_count": null,
      "metadata": {},
      "outputs": [],
      "source": [
        "DDQN_CONFIG_STR = '_'.join((f'{k}={v}' for k, v in DDQN_CONFIG.items())) + '.log'\n",
        "DDQN_CONFIG_STR"
      ]
    },
    {
      "cell_type": "code",
      "execution_count": null,
      "metadata": {},
      "outputs": [],
      "source": [
        "def DDQN(input_shape, output_shape, alpha, regularization: float = 0.001):\n",
        "    model = Sequential(layers=[\n",
        "        Dense(256, input_shape=input_shape, activation='relu', kernel_regularizer=l2(regularization)),\n",
        "        Dense(256, activation='relu', kernel_regularizer=l2(regularization)),\n",
        "        Dense(output_shape, kernel_regularizer=l2(regularization))\n",
        "    ])\n",
        "    model.compile(loss=masked_huber_loss(0.0, 1.0), optimizer=Adam(learning_rate=alpha))\n",
        "    return model"
      ]
    },
    {
      "cell_type": "code",
      "execution_count": null,
      "metadata": {},
      "outputs": [],
      "source": [
        "class DDQN_Agent:\n",
        "    def __init__(self,\n",
        "                 env,\n",
        "                 batch_size: int,\n",
        "                 alpha: float,\n",
        "                 epsilon: float,\n",
        "                 min_epsilon: float,\n",
        "                 epsilon_decay: float,\n",
        "                 gamma: float,\n",
        "                 tau: float,\n",
        "                 regularization: float,\n",
        "                 max_memory_length: int = 250_000,\n",
        "                 checkpoint_interval: int = 10,\n",
        "                 log_file: str = 'progress.log'):\n",
        "        self.env = env\n",
        "        self.batch_size = batch_size\n",
        "        self.alpha = alpha\n",
        "        self.epsilon = epsilon\n",
        "        self.min_epsilon = min_epsilon\n",
        "        self.epsilon_decay = epsilon_decay\n",
        "        self.gamma = gamma\n",
        "        self.tau = tau\n",
        "        self.replay_buffer = ReplayBuffer(max_length = max_memory_length)\n",
        "        self.model = DDQN(input_shape=env.observation_space.shape,\n",
        "                         output_shape=env.action_space.n,\n",
        "                         alpha=alpha,\n",
        "                         regularization=regularization)\n",
        "        self.target_model = DDQN(input_shape=env.observation_space.shape,\n",
        "                         output_shape=env.action_space.n,\n",
        "                         alpha=alpha,\n",
        "                         regularization=regularization)\n",
        "        self.file_logger = FileLogger(DDQN_ARTIFACT_STORE + log_file, 'Episode', 'Steps', 'Total_Rewards')\n",
        "        self.checkpoint_interval = checkpoint_interval\n",
        "    \n",
        "    def checkpoint(self, episode, steps, total_rewards):\n",
        "        self.file_logger.log(episode=episode, steps=steps, total_rewards=total_rewards)\n",
        "        if episode % self.checkpoint_interval == 0:\n",
        "            self.model.save(DDQN_ARTIFACT_STORE + f'{episode}.h5')\n",
        "            with open(f'{DDQN_ARTIFACT_STORE}replay_buffer-{episode}.p', 'wb') as saved_buffer:\n",
        "                pickle.dump(self.replay_buffer, saved_buffer)\n",
        "    \n",
        "    def act(self, state):\n",
        "        if np.random.uniform(0, 1) < self.epsilon:\n",
        "            return self.env.action_space.sample()\n",
        "        return np.argmax(self.model.predict(state.reshape(1, -1))[0])\n",
        "    \n",
        "    def calculate_target_values(self, memory_batch):\n",
        "        states = []\n",
        "        next_states = []\n",
        "        for sample in memory_batch:\n",
        "            states.append(sample[0])\n",
        "            next_states.append(sample[3])\n",
        "        states = np.array(states)\n",
        "        next_states = np.array(next_states)\n",
        "\n",
        "        q_values_next_state = self.model.predict(next_states)\n",
        "        target_q_values_next_state = self.target_model.predict(next_states)\n",
        "\n",
        "        targets = []\n",
        "        for index, (s, a, r, s_, d) in enumerate(memory_batch):\n",
        "            best_action = np.argmax(q_values_next_state[index])\n",
        "            max_q_value_for_next_state = target_q_values_next_state[index, best_action]\n",
        "            \n",
        "            target_vector = [0, 0, 0, 0]\n",
        "            target_vector[a] = r if d else r + self.gamma * max_q_value_for_next_state\n",
        "            targets.append(target_vector)\n",
        "\n",
        "        return states, np.array(targets)\n",
        "\n",
        "    def learn(self):\n",
        "        if len(self.replay_buffer) >= self.batch_size:\n",
        "            samples = self.replay_buffer.sample(batch_size=self.batch_size)\n",
        "            states, targets = self.calculate_target_values(samples)\n",
        "            self.model.fit(states, targets, epochs=1, batch_size=targets.shape[0], verbose=0)\n",
        "    \n",
        "    def transfer_weights(self):\n",
        "        policy_weights = self.model.get_weights()\n",
        "        target_weights = self.target_model.get_weights()\n",
        "        if self.tau > 0.0:\n",
        "            for i, weights in enumerate(policy_weights):\n",
        "                target_weights[i] = weights * self.tau + target_weights[i] * (1 - self.tau)\n",
        "        self.target_model.set_weights(target_weights)\n",
        "    \n",
        "    def remember(self, state, action, reward, next_state, done):\n",
        "        self.replay_buffer.append((state, action, reward, next_state, done))\n",
        "    \n",
        "    def decay_epsilon(self):\n",
        "        self.epsilon = max(self.min_epsilon, self.epsilon * self.epsilon_decay)"
      ]
    },
    {
      "cell_type": "code",
      "execution_count": null,
      "metadata": {},
      "outputs": [],
      "source": [
        "def train_ddqn_agent(warm_start: int = 0):\n",
        "    episodes = 1000\n",
        "    max_steps_per_episode = 1000\n",
        "    target_model_train_interval = 1\n",
        "    reward_progress = RewardTracker(max_length=100)\n",
        "    dqn_agent = DDQN_Agent(env=ENV, **DDQN_CONFIG, log_file=DDQN_CONFIG_STR)\n",
        "    if warm_start >= 1:\n",
        "        print(f'Resuming from last episode: {warm_start}')\n",
        "        dqn_agent.epsilon = max(dqn_agent.min_epsilon, dqn_agent.epsilon_decay ** warm_start)\n",
        "        dqn_agent.target_model = load_model(f'{DDQN_ARTIFACT_STORE}{warm_start}.h5',\n",
        "                                            custom_objects={'masked_huber_loss': masked_huber_loss(0.0, 1.0)})\n",
        "        dqn_agent.model = load_model(f'{DDQN_ARTIFACT_STORE}{warm_start}.h5',\n",
        "                                            custom_objects={'masked_huber_loss': masked_huber_loss(0.0, 1.0)})\n",
        "        with open(f'{DDQN_ARTIFACT_STORE}replay_buffer-{warm_start}.p', 'rb') as saved_buffer:\n",
        "            dqn_agent.replay_buffer = pickle.load(saved_buffer)\n",
        "        for r in dqn_agent.file_logger.get_logs():\n",
        "            reward_progress.append(r)\n",
        "    for episode in range(warm_start + 1, episodes + warm_start + 1):\n",
        "        cur_state = ENV.reset()\n",
        "        total_episode_rewards = 0\n",
        "        for step in range(max_steps_per_episode):\n",
        "            action = dqn_agent.act(cur_state)\n",
        "            new_state, reward, done, _ = ENV.step(action)\n",
        "\n",
        "            total_episode_rewards += reward\n",
        "            print(f'\\rEpisode: {episode}; Step: {step}; Reward: {reward}; Total Episode Rewards (thus far): {total_episode_rewards}', end='')\n",
        "\n",
        "            dqn_agent.remember(cur_state, action, reward, new_state, done)\n",
        "            dqn_agent.learn()\n",
        "            cur_state = new_state\n",
        "            if done or total_episode_rewards < -300:\n",
        "                break\n",
        "        else:\n",
        "            print(f'\\nFailed to complete episode {episode} within {max_steps_per_episode} steps')\n",
        "        print()\n",
        "        if episode % target_model_train_interval == 0:\n",
        "            dqn_agent.transfer_weights()\n",
        "        reward_progress.append(total_episode_rewards)\n",
        "        print(f'Rolling Mean: {reward_progress.get_rolling_mean()}')\n",
        "        dqn_agent.checkpoint(episode=episode, steps=step, total_rewards=total_episode_rewards)\n",
        "        dqn_agent.decay_epsilon()\n",
        "        if total_episode_rewards < 200:\n",
        "            print(\"Episode failed\")\n",
        "        else:\n",
        "            print(f\"Completed in {episode} episodes\")\n",
        "        print(f'New Epsilon: {dqn_agent.epsilon}')\n",
        "        wandb.log({\n",
        "            'episode': episode,\n",
        "            'steps': step,\n",
        "            'total rewards': total_episode_rewards\n",
        "        })"
      ]
    },
    {
      "cell_type": "code",
      "execution_count": null,
      "metadata": {},
      "outputs": [],
      "source": [
        "train_ddqn_agent(warm_start=0)"
      ]
    },
    {
      "cell_type": "code",
      "execution_count": null,
      "metadata": {},
      "outputs": [],
      "source": [
        "wandb.finish()"
      ]
    },
    {
      "cell_type": "code",
      "execution_count": 9,
      "metadata": {},
      "outputs": [
        {
          "data": {
            "text/plain": [
              "'Highest Mean Score: 12.040807599441289'"
            ]
          },
          "execution_count": 9,
          "metadata": {},
          "output_type": "execute_result"
        },
        {
          "data": {
            "image/png": "[encoded data removed]",
            "text/plain": [
              "<Figure size 1008x432 with 2 Axes>"
            ]
          },
          "metadata": {},
          "output_type": "display_data"
        }
      ],
      "source": [
        "plot_learning_curve('./logs/ddqn.log')"
      ]
    },
    {
      "cell_type": "markdown",
      "metadata": {},
      "source": [
        "## Vanilla DQN"
      ]
    },
    {
      "cell_type": "code",
      "execution_count": null,
      "metadata": {},
      "outputs": [],
      "source": [
        "DQN_ARTIFACT_STORE = ARTIFACT_STORE + 'dqn/'"
      ]
    },
    {
      "cell_type": "code",
      "execution_count": null,
      "metadata": {},
      "outputs": [],
      "source": [
        "DQN_CONFIG = {\n",
        "    'batch_size': 64,\n",
        "    'alpha': 0.0005,\n",
        "    'epsilon': 1.0,\n",
        "    'min_epsilon': 0.01,\n",
        "    'epsilon_decay': 0.995,\n",
        "    'gamma': 0.99\n",
        "}"
      ]
    },
    {
      "cell_type": "code",
      "execution_count": null,
      "metadata": {},
      "outputs": [],
      "source": [
        "DQN_CONFIG_STR = '_'.join((f'{k}={v}' for k, v in DQN_CONFIG.items())) + '.log'\n",
        "DQN_CONFIG_STR"
      ]
    },
    {
      "cell_type": "code",
      "execution_count": null,
      "metadata": {},
      "outputs": [],
      "source": [
        "wandb.init(project=\"lunarlander-dqn\",\n",
        "           entity=\"user\",\n",
        "           config=DQN_CONFIG)"
      ]
    },
    {
      "cell_type": "code",
      "execution_count": null,
      "metadata": {},
      "outputs": [],
      "source": [
        "def DQN(input_shape, output_shape, alpha):\n",
        "    model = Sequential(layers=[\n",
        "        Dense(256, input_shape=input_shape, activation='relu'),\n",
        "        Dense(256, activation='relu'),\n",
        "        Dense(output_shape)\n",
        "    ])\n",
        "    model.compile(loss='mse', optimizer=Adam(learning_rate=alpha))\n",
        "    return model"
      ]
    },
    {
      "cell_type": "code",
      "execution_count": null,
      "metadata": {},
      "outputs": [],
      "source": [
        "class DQN_Agent:\n",
        "    def __init__(self,\n",
        "                 env,\n",
        "                 batch_size: int,\n",
        "                 alpha: float,\n",
        "                 epsilon: float,\n",
        "                 min_epsilon: float,\n",
        "                 epsilon_decay: float,\n",
        "                 gamma: float,\n",
        "                 max_memory_length: int = 300_000,\n",
        "                 checkpoint_interval: int = 10,\n",
        "                 log_file: str = 'progress.log'):\n",
        "        self.env = env\n",
        "        self.batch_size = batch_size\n",
        "        self.alpha = alpha\n",
        "        self.epsilon = epsilon\n",
        "        self.min_epsilon = min_epsilon\n",
        "        self.epsilon_decay = epsilon_decay\n",
        "        self.gamma = gamma\n",
        "        self.replay_buffer = ReplayBuffer(max_length = max_memory_length)\n",
        "        self.model = DQN(input_shape=env.observation_space.shape,\n",
        "                         output_shape=env.action_space.n,\n",
        "                         alpha=alpha)\n",
        "        self.file_logger = FileLogger(DQN_ARTIFACT_STORE + log_file, 'Episode', 'Steps', 'Total_Rewards')\n",
        "        self.checkpoint_interval = checkpoint_interval\n",
        "    \n",
        "    def checkpoint(self, episode, steps, total_rewards):\n",
        "        self.file_logger.log(episode=episode, steps=steps, total_rewards=total_rewards)\n",
        "        if episode % self.checkpoint_interval == 0:\n",
        "            self.model.save(DQN_ARTIFACT_STORE + f'{episode}.h5')\n",
        "            with open(f'{DQN_ARTIFACT_STORE}replay_buffer-{episode}.p', 'wb') as saved_buffer:\n",
        "                pickle.dump(self.replay_buffer, saved_buffer)\n",
        "    \n",
        "    def act(self, state):\n",
        "        if np.random.uniform(0, 1) < self.epsilon:\n",
        "            return self.env.action_space.sample()\n",
        "        return np.argmax(self.model.predict(state.reshape(1, -1))[0])\n",
        "    \n",
        "    def calculate_target_values(self, memory_batch):\n",
        "        states = []\n",
        "        next_states = []\n",
        "        for sample in memory_batch:\n",
        "            states.append(sample[0])\n",
        "            next_states.append(sample[3])\n",
        "        states = np.array(states)\n",
        "        next_states = np.array(next_states)\n",
        "\n",
        "        q_values = self.model.predict(states)\n",
        "        target_q_values = q_values.copy()\n",
        "        \n",
        "        q_values_next_state = self.model.predict(next_states)\n",
        "\n",
        "        for index, (s, a, r, s_, d) in enumerate(memory_batch):\n",
        "            max_q_value_for_next_state = np.max(q_values_next_state[index])\n",
        "            target_q_values[index, a] = r if d else r + self.gamma * max_q_value_for_next_state\n",
        "\n",
        "        return states, target_q_values\n",
        "\n",
        "    def learn(self):\n",
        "        if len(self.replay_buffer) >= self.batch_size:\n",
        "            samples = self.replay_buffer.sample(batch_size=self.batch_size)\n",
        "            states, targets = self.calculate_target_values(samples)\n",
        "            self.model.fit(states, targets, epochs=1, batch_size=targets.shape[0], verbose=0)\n",
        "            self.decay_epsilon()\n",
        "    \n",
        "    def remember(self, state, action, reward, next_state, done):\n",
        "        self.replay_buffer.append((state, action, reward, next_state, done))\n",
        "    \n",
        "    def decay_epsilon(self):\n",
        "        self.epsilon = max(self.min_epsilon, self.epsilon * self.epsilon_decay)"
      ]
    },
    {
      "cell_type": "code",
      "execution_count": null,
      "metadata": {},
      "outputs": [],
      "source": [
        "def train_dqn_agent(warm_start: int = 0):\n",
        "    episodes = 1000\n",
        "    reward_progress = RewardTracker(max_length=100)\n",
        "    dqn_agent = DQN_Agent(env=ENV, **DQN_CONFIG, log_file=DQN_CONFIG_STR)\n",
        "    if warm_start >= 1:\n",
        "        print(f'Resuming from last episode: {warm_start}')\n",
        "        dqn_agent.epsilon = dqn_agent.min_epsilon\n",
        "        dqn_agent.model = load_model(f'{DQN_ARTIFACT_STORE}{warm_start}.h5')\n",
        "        with open(f'{DQN_ARTIFACT_STORE}replay_buffer-{warm_start}.p', 'rb') as saved_buffer:\n",
        "            dqn_agent.replay_buffer = pickle.load(saved_buffer)\n",
        "        for r in dqn_agent.file_logger.get_logs():\n",
        "            reward_progress.append(r)\n",
        "    for episode in range(warm_start + 1, episodes + warm_start + 1):\n",
        "        cur_state = ENV.reset()\n",
        "        total_episode_rewards = 0\n",
        "        done = False\n",
        "        step = 0\n",
        "        while not done:\n",
        "            action = dqn_agent.act(cur_state)\n",
        "            new_state, reward, done, _ = ENV.step(action)\n",
        "\n",
        "            total_episode_rewards += reward\n",
        "            print(f'\\rEpisode: {episode}; Step: {step}; Reward: {reward}; Total Episode Rewards (thus far): {total_episode_rewards}', end='')\n",
        "\n",
        "            dqn_agent.remember(cur_state, action, reward, new_state, done)\n",
        "            dqn_agent.learn()\n",
        "            cur_state = new_state\n",
        "            if done or total_episode_rewards < -300:\n",
        "                break\n",
        "            step += 1\n",
        "\n",
        "        print()\n",
        "        reward_progress.append(total_episode_rewards)\n",
        "        print(f'Rolling Mean: {reward_progress.get_rolling_mean()}')\n",
        "        dqn_agent.checkpoint(episode=episode, steps=step, total_rewards=total_episode_rewards)\n",
        "        # dqn_agent.decay_epsilon()\n",
        "        if total_episode_rewards < 200:\n",
        "            print(\"Episode failed\")\n",
        "        else:\n",
        "            print(f\"Completed in {episode} episodes\")\n",
        "        print(f'New Epsilon: {dqn_agent.epsilon}')\n",
        "        wandb.log({\n",
        "            'episode': episode,\n",
        "            'steps': step,\n",
        "            'total rewards': total_episode_rewards\n",
        "        })"
      ]
    },
    {
      "cell_type": "code",
      "execution_count": null,
      "metadata": {},
      "outputs": [],
      "source": [
        "wandb.finish()"
      ]
    },
    {
      "cell_type": "code",
      "execution_count": 10,
      "metadata": {},
      "outputs": [
        {
          "data": {
            "text/plain": [
              "'Highest Mean Score: 233.8828892809272'"
            ]
          },
          "execution_count": 10,
          "metadata": {},
          "output_type": "execute_result"
        },
        {
          "data": {
            "image/png": "[encoded data removed]",
            "text/plain": [
              "<Figure size 1008x432 with 2 Axes>"
            ]
          },
          "metadata": {},
          "output_type": "display_data"
        }
      ],
      "source": [
        "plot_learning_curve('./logs/dqn.log')"
      ]
    },
    {
      "cell_type": "markdown",
      "metadata": {},
      "source": [
        "## Visualise Model Performance"
      ]
    },
    {
      "cell_type": "code",
      "execution_count": null,
      "metadata": {},
      "outputs": [],
      "source": [
        "#!xvfb-run -a -s \"-screen 0 640x480x24\" python make_video_model.py"
      ]
    },
    {
      "cell_type": "code",
      "execution_count": 11,
      "metadata": {},
      "outputs": [
        {
          "data": {
            "text/html": [
              "<video src=\"./video/LunarLander-v2-50.mp4\" controls  >\n",
              "      Your browser does not support the <code>video</code> element.\n",
              "    </video>"
            ],
            "text/plain": [
              "<IPython.core.display.Video object>"
            ]
          },
          "execution_count": 11,
          "metadata": {},
          "output_type": "execute_result"
        }
      ],
      "source": [
        "# During early stages of training\n",
        "Video('./video/LunarLander-v2-50.mp4')"
      ]
    },
    {
      "cell_type": "code",
      "execution_count": 12,
      "metadata": {},
      "outputs": [
        {
          "data": {
            "text/html": [
              "<video src=\"./video/LunarLander-v2-100.mp4\" controls  >\n",
              "      Your browser does not support the <code>video</code> element.\n",
              "    </video>"
            ],
            "text/plain": [
              "<IPython.core.display.Video object>"
            ]
          },
          "execution_count": 12,
          "metadata": {},
          "output_type": "execute_result"
        }
      ],
      "source": [
        "# Midway into training\n",
        "Video('./video/LunarLander-v2-100.mp4')"
      ]
    },
    {
      "cell_type": "code",
      "execution_count": 14,
      "metadata": {},
      "outputs": [
        {
          "data": {
            "text/html": [
              "<video src=\"./video/LunarLander-v2-350.mp4\" controls  >\n",
              "      Your browser does not support the <code>video</code> element.\n",
              "    </video>"
            ],
            "text/plain": [
              "<IPython.core.display.Video object>"
            ]
          },
          "execution_count": 14,
          "metadata": {},
          "output_type": "execute_result"
        }
      ],
      "source": [
        "# Towards the end of training\n",
        "Video('./video/LunarLander-v2-350.mp4')"
      ]
    },
    {
      "cell_type": "code",
      "execution_count": 13,
      "metadata": {},
      "outputs": [
        {
          "data": {
            "text/html": [
              "<video src=\"./video/LunarLander-v2-360.mp4\" controls  >\n",
              "      Your browser does not support the <code>video</code> element.\n",
              "    </video>"
            ],
            "text/plain": [
              "<IPython.core.display.Video object>"
            ]
          },
          "execution_count": 13,
          "metadata": {},
          "output_type": "execute_result"
        }
      ],
      "source": [
        "# Towards the end of training\n",
        "Video('./video/LunarLander-v2-360.mp4')"
      ]
    },
    {
      "cell_type": "markdown",
      "metadata": {},
      "source": [
        "## Conclusions\n",
        "\n",
        "* A complex solution is not always the most optimal.\n",
        "* Often, a simpler method is more elegant and yields better results\n",
        "* One just has to have the patience to seek it out\n",
        "* This assignment on reinforcement learning really made us rethink how humans ourselves learn"
      ]
    },
    {
      "cell_type": "markdown",
      "metadata": {},
      "source": [
        "## References\n",
        "\n",
        "* https://wingedsheep.com/lunar-lander-dqn/\n",
        "* https://goodboychan.github.io/python/reinforcement_learning/pytorch/udacity/2021/05/07/DQN-LunarLander.html\n",
        "* https://www.youtube.com/watch?v=UCgsv6tMReY"
      ]
    }
  ],
  "metadata": {
    "accelerator": "GPU",
    "colab": {
      "collapsed_sections": [],
      "name": "dele-part-b.ipynb",
      "provenance": []
    },
    "kernelspec": {
      "display_name": "Python 3",
      "name": "python3"
    },
    "language_info": {
      "codemirror_mode": {
        "name": "ipython",
        "version": 3
      },
      "file_extension": ".py",
      "mimetype": "text/x-python",
      "name": "python",
      "nbconvert_exporter": "python",
      "pygments_lexer": "ipython3",
      "version": "3.9.7"
    },
    "widgets": {
      "application/vnd.jupyter.widget-state+json": {
        "585b5543793c4c1e943de76c2b5667b6": {
          "model_module": "@jupyter-widgets/controls",
          "model_module_version": "1.5.0",
          "model_name": "FloatProgressModel",
          "state": {
            "_dom_classes": [],
            "_model_module": "@jupyter-widgets/controls",
            "_model_module_version": "1.5.0",
            "_model_name": "FloatProgressModel",
            "_view_count": null,
            "_view_module": "@jupyter-widgets/controls",
            "_view_module_version": "1.5.0",
            "_view_name": "ProgressView",
            "bar_style": "",
            "description": "",
            "description_tooltip": null,
            "layout": "IPY_MODEL_eea3f1898e35430d8ba294f70ecc382c",
            "max": 1,
            "min": 0,
            "orientation": "horizontal",
            "style": "IPY_MODEL_8c534b31c00740f8bcde5f469b1e9631",
            "value": 1
          }
        },
        "6d9e508f97a44baf9b1b1739b5316710": {
          "model_module": "@jupyter-widgets/controls",
          "model_module_version": "1.5.0",
          "model_name": "VBoxModel",
          "state": {
            "_dom_classes": [],
            "_model_module": "@jupyter-widgets/controls",
            "_model_module_version": "1.5.0",
            "_model_name": "VBoxModel",
            "_view_count": null,
            "_view_module": "@jupyter-widgets/controls",
            "_view_module_version": "1.5.0",
            "_view_name": "VBoxView",
            "box_style": "",
            "children": [
              "IPY_MODEL_a633a69e80ff42a1b00072e68313b588",
              "IPY_MODEL_585b5543793c4c1e943de76c2b5667b6"
            ],
            "layout": "IPY_MODEL_c6312c505e7440da9ac0062d7dd9fc46"
          }
        },
        "8baf3476a2074178bd3a7ac0136d1e8b": {
          "model_module": "@jupyter-widgets/controls",
          "model_module_version": "1.5.0",
          "model_name": "DescriptionStyleModel",
          "state": {
            "_model_module": "@jupyter-widgets/controls",
            "_model_module_version": "1.5.0",
            "_model_name": "DescriptionStyleModel",
            "_view_count": null,
            "_view_module": "@jupyter-widgets/base",
            "_view_module_version": "1.2.0",
            "_view_name": "StyleView",
            "description_width": ""
          }
        },
        "8c534b31c00740f8bcde5f469b1e9631": {
          "model_module": "@jupyter-widgets/controls",
          "model_module_version": "1.5.0",
          "model_name": "ProgressStyleModel",
          "state": {
            "_model_module": "@jupyter-widgets/controls",
            "_model_module_version": "1.5.0",
            "_model_name": "ProgressStyleModel",
            "_view_count": null,
            "_view_module": "@jupyter-widgets/base",
            "_view_module_version": "1.2.0",
            "_view_name": "StyleView",
            "bar_color": null,
            "description_width": ""
          }
        },
        "91e9b635da724dce9192eaebaf03381e": {
          "model_module": "@jupyter-widgets/base",
          "model_module_version": "1.2.0",
          "model_name": "LayoutModel",
          "state": {
            "_model_module": "@jupyter-widgets/base",
            "_model_module_version": "1.2.0",
            "_model_name": "LayoutModel",
            "_view_count": null,
            "_view_module": "@jupyter-widgets/base",
            "_view_module_version": "1.2.0",
            "_view_name": "LayoutView",
            "align_content": null,
            "align_items": null,
            "align_self": null,
            "border": null,
            "bottom": null,
            "display": null,
            "flex": null,
            "flex_flow": null,
            "grid_area": null,
            "grid_auto_columns": null,
            "grid_auto_flow": null,
            "grid_auto_rows": null,
            "grid_column": null,
            "grid_gap": null,
            "grid_row": null,
            "grid_template_areas": null,
            "grid_template_columns": null,
            "grid_template_rows": null,
            "height": null,
            "justify_content": null,
            "justify_items": null,
            "left": null,
            "margin": null,
            "max_height": null,
            "max_width": null,
            "min_height": null,
            "min_width": null,
            "object_fit": null,
            "object_position": null,
            "order": null,
            "overflow": null,
            "overflow_x": null,
            "overflow_y": null,
            "padding": null,
            "right": null,
            "top": null,
            "visibility": null,
            "width": null
          }
        },
        "a633a69e80ff42a1b00072e68313b588": {
          "model_module": "@jupyter-widgets/controls",
          "model_module_version": "1.5.0",
          "model_name": "LabelModel",
          "state": {
            "_dom_classes": [],
            "_model_module": "@jupyter-widgets/controls",
            "_model_module_version": "1.5.0",
            "_model_name": "LabelModel",
            "_view_count": null,
            "_view_module": "@jupyter-widgets/controls",
            "_view_module_version": "1.5.0",
            "_view_name": "LabelView",
            "description": "",
            "description_tooltip": null,
            "layout": "IPY_MODEL_91e9b635da724dce9192eaebaf03381e",
            "placeholder": "​",
            "style": "IPY_MODEL_8baf3476a2074178bd3a7ac0136d1e8b",
            "value": " 0.29MB of 0.29MB uploaded (0.00MB deduped)\r"
          }
        },
        "c6312c505e7440da9ac0062d7dd9fc46": {
          "model_module": "@jupyter-widgets/base",
          "model_module_version": "1.2.0",
          "model_name": "LayoutModel",
          "state": {
            "_model_module": "@jupyter-widgets/base",
            "_model_module_version": "1.2.0",
            "_model_name": "LayoutModel",
            "_view_count": null,
            "_view_module": "@jupyter-widgets/base",
            "_view_module_version": "1.2.0",
            "_view_name": "LayoutView",
            "align_content": null,
            "align_items": null,
            "align_self": null,
            "border": null,
            "bottom": null,
            "display": null,
            "flex": null,
            "flex_flow": null,
            "grid_area": null,
            "grid_auto_columns": null,
            "grid_auto_flow": null,
            "grid_auto_rows": null,
            "grid_column": null,
            "grid_gap": null,
            "grid_row": null,
            "grid_template_areas": null,
            "grid_template_columns": null,
            "grid_template_rows": null,
            "height": null,
            "justify_content": null,
            "justify_items": null,
            "left": null,
            "margin": null,
            "max_height": null,
            "max_width": null,
            "min_height": null,
            "min_width": null,
            "object_fit": null,
            "object_position": null,
            "order": null,
            "overflow": null,
            "overflow_x": null,
            "overflow_y": null,
            "padding": null,
            "right": null,
            "top": null,
            "visibility": null,
            "width": null
          }
        },
        "eea3f1898e35430d8ba294f70ecc382c": {
          "model_module": "@jupyter-widgets/base",
          "model_module_version": "1.2.0",
          "model_name": "LayoutModel",
          "state": {
            "_model_module": "@jupyter-widgets/base",
            "_model_module_version": "1.2.0",
            "_model_name": "LayoutModel",
            "_view_count": null,
            "_view_module": "@jupyter-widgets/base",
            "_view_module_version": "1.2.0",
            "_view_name": "LayoutView",
            "align_content": null,
            "align_items": null,
            "align_self": null,
            "border": null,
            "bottom": null,
            "display": null,
            "flex": null,
            "flex_flow": null,
            "grid_area": null,
            "grid_auto_columns": null,
            "grid_auto_flow": null,
            "grid_auto_rows": null,
            "grid_column": null,
            "grid_gap": null,
            "grid_row": null,
            "grid_template_areas": null,
            "grid_template_columns": null,
            "grid_template_rows": null,
            "height": null,
            "justify_content": null,
            "justify_items": null,
            "left": null,
            "margin": null,
            "max_height": null,
            "max_width": null,
            "min_height": null,
            "min_width": null,
            "object_fit": null,
            "object_position": null,
            "order": null,
            "overflow": null,
            "overflow_x": null,
            "overflow_y": null,
            "padding": null,
            "right": null,
            "top": null,
            "visibility": null,
            "width": null
          }
        }
      }
    }
  },
  "nbformat": 4,
  "nbformat_minor": 0
}
